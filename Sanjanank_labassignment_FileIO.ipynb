{
  "nbformat": 4,
  "nbformat_minor": 0,
  "metadata": {
    "colab": {
      "provenance": []
    },
    "kernelspec": {
      "name": "python3",
      "display_name": "Python 3"
    },
    "language_info": {
      "name": "python"
    }
  },
  "cells": [
    {
      "cell_type": "markdown",
      "source": [
        "#1)Write a function in python to read the content the content from a text file \"ABC.txt\" line by line and display the same on screen"
      ],
      "metadata": {
        "id": "eJOimawTxtOA"
      }
    },
    {
      "cell_type": "code",
      "source": [
        "# Function to read content from a text file and display it line by line (File I/O concept)\n",
        "def display_file_content():\n",
        "    try:\n",
        "        # Open the file 'ABC.txt' in read mode ('r')\n",
        "        file = open('ABC.txt', 'r')\n",
        "\n",
        "        # Read and display each line in the file\n",
        "        for line in file:\n",
        "            print(line, end='')  # Print each line, 'end=\"\"' avoids adding an extra newline.\n",
        "\n",
        "        # Close the file after reading\n",
        "        file.close()\n",
        "\n",
        "    except FileNotFoundError:\n",
        "        # Handle the case when the file does not exist\n",
        "        print(\"Error: The file 'ABC.txt' was not found.\")\n",
        "    except IOError as e:\n",
        "        # Handle other I/O related errors\n",
        "        print(f\"An error occurred while reading the file: {e}\")\n",
        "\n",
        "# Example usage\n",
        "display_file_content()\n",
        "\n"
      ],
      "metadata": {
        "colab": {
          "base_uri": "https://localhost:8080/"
        },
        "id": "HcP1BC-TCGr-",
        "outputId": "d9342ac8-7d13-46dc-e77b-c68e0fd737f6"
      },
      "execution_count": 10,
      "outputs": [
        {
          "output_type": "stream",
          "name": "stdout",
          "text": [
            "Error: The file 'ABC.txt' was not found.\n"
          ]
        }
      ]
    },
    {
      "cell_type": "markdown",
      "source": [
        "#2)Write a function in python code to count and display the total number of words in a text file \"ABC.txt\""
      ],
      "metadata": {
        "id": "4_y12FPIybD1"
      }
    },
    {
      "cell_type": "code",
      "source": [
        "# Function to count and display the total number of words in a text file\n",
        "def count_words_in_file_alternate():\n",
        "    try:\n",
        "        # Open the file 'ABC.txt' in read mode ('r')\n",
        "        file = open('ABC.txt', 'r')\n",
        "\n",
        "        # Initialize the word count to 0\n",
        "        word_count = 0\n",
        "\n",
        "        # Read the entire file content\n",
        "        content = file.read()\n",
        "\n",
        "        # Split the content into words by any whitespace using split()\n",
        "        words = content.split()\n",
        "\n",
        "        # Count the number of words\n",
        "        word_count = len(words)\n",
        "\n",
        "        # Display the total word count\n",
        "        print(f\"Total number of words in the file: {word_count}\")\n",
        "\n",
        "        # Close the file after reading\n",
        "        file.close()\n",
        "\n",
        "    except FileNotFoundError:\n",
        "        # Handle the case when the file does not exist\n",
        "        print(\"Error: The file 'ABC.txt' was not found.\")\n",
        "    except IOError as e:\n",
        "        # Handle other I/O related errors\n",
        "        print(f\"An error occurred while reading the file: {e}\")\n",
        "\n",
        "# Example usage\n",
        "count_words_in_file_alternate()\n",
        "\n",
        "\n"
      ],
      "metadata": {
        "colab": {
          "base_uri": "https://localhost:8080/"
        },
        "id": "cjBMt3CFDUac",
        "outputId": "bd3b2aa6-597d-4807-dfd9-cee31c42d7f7"
      },
      "execution_count": 11,
      "outputs": [
        {
          "output_type": "stream",
          "name": "stdout",
          "text": [
            "Error: The file 'ABC.txt' was not found.\n"
          ]
        }
      ]
    },
    {
      "cell_type": "markdown",
      "source": [
        "#3)Write a function in python to count uppercase character in a text file \"ABC.txt\""
      ],
      "metadata": {
        "id": "v_yrGmDCzSk7"
      }
    },
    {
      "cell_type": "code",
      "source": [
        "# Function to count uppercase characters in a text file\n",
        "def count_uppercase_characters():\n",
        "    try:\n",
        "        # Open the file 'ABC.txt' in read mode ('r')\n",
        "        with open('ABC.txt', 'r') as file:\n",
        "            # Initialize a counter for uppercase characters\n",
        "            uppercase_count = 0\n",
        "\n",
        "            # Loop through each line in the file\n",
        "            for line in file:\n",
        "                # Loop through each character in the line\n",
        "                for char in line:\n",
        "                    # Check if the character is uppercase\n",
        "                    if char.isupper():\n",
        "                        uppercase_count += 1\n",
        "\n",
        "            # Display the total number of uppercase characters\n",
        "            print(f\"Total number of uppercase characters in the file: {uppercase_count}\")\n",
        "\n",
        "    except FileNotFoundError:\n",
        "        # Handle the case when the file does not exist\n",
        "        print(\"Error: The file 'ABC.txt' was not found.\")\n",
        "    except IOError as e:\n",
        "        # Handle other I/O related errors\n",
        "        print(f\"An error occurred while reading the file: {e}\")\n",
        "\n",
        "# Example usage\n",
        "count_uppercase_characters()\n",
        "\n"
      ],
      "metadata": {
        "colab": {
          "base_uri": "https://localhost:8080/"
        },
        "id": "mMNuaIbyDvoz",
        "outputId": "ca47db16-3c62-408d-88c5-db03a6d80cc9"
      },
      "execution_count": 12,
      "outputs": [
        {
          "output_type": "stream",
          "name": "stdout",
          "text": [
            "Total number of uppercase characters in the file: 9\n"
          ]
        }
      ]
    },
    {
      "cell_type": "markdown",
      "source": [
        "#4)Write a function display_words() in python to read lines from a text a file from a text file \"story.txt\",and display those words , which are less than 4 characters\n"
      ],
      "metadata": {
        "id": "5-CTf9A5z3_Q"
      }
    },
    {
      "cell_type": "code",
      "execution_count": 13,
      "metadata": {
        "colab": {
          "base_uri": "https://localhost:8080/"
        },
        "id": "DNzhxl2wxf2c",
        "outputId": "5b488d9c-77b9-4ce8-882e-53f2ea128f5e"
      },
      "outputs": [
        {
          "output_type": "stream",
          "name": "stdout",
          "text": [
            "is\n",
            "a\n",
            "The\n",
            "dog\n",
            "ran\n",
            "She\n",
            "had\n",
            "a\n",
            "big\n"
          ]
        }
      ],
      "source": [
        "# Function to display words that are less than 4 characters from a text file\n",
        "def display_words():\n",
        "    try:\n",
        "        # Open the file 'story.txt' in read mode ('r')\n",
        "        with open('story.txt', 'r') as file:\n",
        "            # Loop through each line in the file\n",
        "            for line in file:\n",
        "                # Split the line into words\n",
        "                words = line.split()\n",
        "\n",
        "                # Loop through each word and display those with less than 4 characters\n",
        "                for word in words:\n",
        "                    if len(word) < 4:\n",
        "                        print(word)\n",
        "\n",
        "    except FileNotFoundError:\n",
        "        # Handle the case when the file does not exist\n",
        "        print(\"Error: The file 'story.txt' was not found.\")\n",
        "    except IOError as e:\n",
        "        # Handle other I/O related errors\n",
        "        print(f\"An error occurred while reading the file: {e}\")\n",
        "\n",
        "# Example usage\n",
        "display_words()\n",
        "\n"
      ]
    },
    {
      "cell_type": "code",
      "source": [],
      "metadata": {
        "id": "doYZdskBHWMF"
      },
      "execution_count": null,
      "outputs": []
    },
    {
      "cell_type": "code",
      "source": [],
      "metadata": {
        "id": "dXrDbv3nHWAK"
      },
      "execution_count": null,
      "outputs": []
    }
  ]
}