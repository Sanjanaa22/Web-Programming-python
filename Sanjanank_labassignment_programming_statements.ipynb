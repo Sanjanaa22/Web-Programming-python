{
  "nbformat": 4,
  "nbformat_minor": 0,
  "metadata": {
    "colab": {
      "provenance": []
    },
    "kernelspec": {
      "name": "python3",
      "display_name": "Python 3"
    },
    "language_info": {
      "name": "python"
    }
  },
  "cells": [
    {
      "cell_type": "markdown",
      "source": [
        "# **Lab Assignment 02**"
      ],
      "metadata": {
        "id": "JImefzeCPR4k"
      }
    },
    {
      "cell_type": "markdown",
      "source": [
        "# 1)Using input() function take one number from the user and using ternary operators check whether the number is even or odd"
      ],
      "metadata": {
        "id": "VsutWSF7PbQ_"
      }
    },
    {
      "cell_type": "code",
      "execution_count": 3,
      "metadata": {
        "colab": {
          "base_uri": "https://localhost:8080/"
        },
        "id": "zWI_RNrHPGnh",
        "outputId": "76bcce23-ea87-472e-d9cd-f60fcbac19b1"
      },
      "outputs": [
        {
          "output_type": "stream",
          "name": "stdout",
          "text": [
            "Enter a number5\n",
            "5 is odd\n"
          ]
        }
      ],
      "source": [
        "#user input\n",
        "\n",
        "number=int(input(\"Enter a number\"))\n",
        "\n",
        "#ternary operatory\n",
        "\n",
        "print(f\"{number} is even\") if number%2==0 else print(f\"{number} is odd\")"
      ]
    },
    {
      "cell_type": "markdown",
      "source": [
        "# 2)Using input function take two number and then swap the number\n"
      ],
      "metadata": {
        "id": "Ien6OdVvPvWt"
      }
    },
    {
      "cell_type": "code",
      "source": [
        "num1 = float(input(\"Enter the first number: \"))\n",
        "num2 = float(input(\"Enter the second number: \"))\n",
        "\n",
        "# Swap using a temporary variable\n",
        "temp = num1\n",
        "num1 = num2\n",
        "num2 = temp\n",
        "\n",
        "# Display the swapped values\n",
        "print(\"After swapping:\")\n",
        "print(\"First number:\", num1)\n",
        "print(\"Second number:\", num2)"
      ],
      "metadata": {
        "colab": {
          "base_uri": "https://localhost:8080/"
        },
        "id": "T06-zS0_Pu2k",
        "outputId": "ee3c3f98-78f8-4d07-df39-9b2ef461d82b"
      },
      "execution_count": 4,
      "outputs": [
        {
          "output_type": "stream",
          "name": "stdout",
          "text": [
            "Enter the first number: 5\n",
            "Enter the second number: 8\n",
            "After swapping:\n",
            "First number: 8.0\n",
            "Second number: 5.0\n"
          ]
        }
      ]
    },
    {
      "cell_type": "markdown",
      "source": [
        "# 3)Write a program to convert kilometers to miles"
      ],
      "metadata": {
        "id": "L_sXDez4P9hM"
      }
    },
    {
      "cell_type": "code",
      "source": [
        "#user input\n",
        "kilometers = float(input(\"Enter the distance in kilometers: \"))\n",
        "\n",
        "\n",
        "kilometers_to_miles = 0.621371 # Conversion factor\n",
        "\n",
        "# Convert kilometers to miles\n",
        "miles = kilometers * kilometers_to_miles\n",
        "\n",
        "# Display the result\n",
        "print(f\"{kilometers} kilometers is equal to {miles} miles.\")"
      ],
      "metadata": {
        "colab": {
          "base_uri": "https://localhost:8080/"
        },
        "id": "X-GNPF9HS-gh",
        "outputId": "31fd4bff-9172-481c-f2bb-2ebbb80de219"
      },
      "execution_count": 5,
      "outputs": [
        {
          "output_type": "stream",
          "name": "stdout",
          "text": [
            "Enter the distance in kilometers: 56\n",
            "56.0 kilometers is equal to 34.796776 miles.\n"
          ]
        }
      ]
    },
    {
      "cell_type": "markdown",
      "source": [
        "# 4.Find the Simpe Interest on Rs.200 for 5 years at 5% per year\n"
      ],
      "metadata": {
        "id": "bWjP-FaPQHsY"
      }
    },
    {
      "cell_type": "code",
      "source": [
        "# Given data\n",
        "principal_amount = 200  # Principal amount in Rs.\n",
        "rate_of_interest = 5    # Interest rate per year in percentage\n",
        "time_period = 5         # Time period in years\n",
        "\n",
        "# Calculating Simple Interest using the formula\n",
        "simple_interest = (principal_amount * rate_of_interest * time_period) / 100\n",
        "\n",
        "# Displaying the result\n",
        "print(f\"The Simple Interest on Rs.{principal_amount} for {time_period} years at {rate_of_interest}% per annum is Rs.{simple_interest}\")\n",
        "\n"
      ],
      "metadata": {
        "colab": {
          "base_uri": "https://localhost:8080/"
        },
        "id": "lEngejiTUW4b",
        "outputId": "b931c2cb-c7dc-47ad-dfa0-079bf56d4ab5"
      },
      "execution_count": 6,
      "outputs": [
        {
          "output_type": "stream",
          "name": "stdout",
          "text": [
            "The Simple Interest on Rs.200 for 5 years at 5% per annum is Rs.50.0\n"
          ]
        }
      ]
    }
  ]
}