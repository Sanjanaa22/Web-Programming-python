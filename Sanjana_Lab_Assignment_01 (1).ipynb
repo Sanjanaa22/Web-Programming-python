{
  "nbformat": 4,
  "nbformat_minor": 0,
  "metadata": {
    "colab": {
      "provenance": []
    },
    "kernelspec": {
      "name": "python3",
      "display_name": "Python 3"
    },
    "language_info": {
      "name": "python"
    }
  },
  "cells": [
    {
      "cell_type": "markdown",
      "source": [
        "## **LAB** **ASSIGNMENT** :"
      ],
      "metadata": {
        "id": "NywmLFhNhybQ"
      }
    },
    {
      "cell_type": "markdown",
      "source": [
        "### 1.Calculate the multiplication and sum of two numbers"
      ],
      "metadata": {
        "id": "MarlHE3giElN"
      }
    },
    {
      "cell_type": "code",
      "source": [
        "#Get two numbers values\n",
        "\n",
        "number1=int(input(\"Enter first number\"))\n",
        "number2=int(input(\"Enter second number\"))\n",
        "\n",
        "#display two num\n",
        "print(\"number 1\",number1)\n",
        "print(\"number 2\",number2)\n",
        "\n",
        "#multiplication\n",
        "multi=number1*number2\n",
        "\n",
        "print(\"Multiplication of two number\")\n",
        "print(multi)\n",
        "\n",
        "#Addition\n",
        "\n",
        "sum=number1+number2\n",
        "print(\"Addition of two number\")\n",
        "print(sum)\n",
        "\n"
      ],
      "metadata": {
        "colab": {
          "base_uri": "https://localhost:8080/"
        },
        "id": "_K493MGzi8C_",
        "outputId": "7d821883-f54a-4162-97a4-4015cf60c19e"
      },
      "execution_count": 10,
      "outputs": [
        {
          "output_type": "stream",
          "name": "stdout",
          "text": [
            "Enter first number10\n",
            "Enter second number14\n",
            "number 1 10\n",
            "number 2 14\n",
            "Multiplication of two number\n",
            "140\n",
            "Addition of two number\n",
            "24\n"
          ]
        }
      ]
    },
    {
      "cell_type": "markdown",
      "source": [
        "### 2.Declare two variables and print that which is largest using ternary operators"
      ],
      "metadata": {
        "id": "d4CMsbh1mVhH"
      }
    },
    {
      "cell_type": "code",
      "source": [
        "#declaring two variables\n",
        "\n",
        "variable1 = 100\n",
        "variable2 = 200\n",
        "\n",
        "#ternary operator\n",
        "print(f\"{variable1} is greater\") if variable1 > variable2 else print(f\"{variable2} is greater\")"
      ],
      "metadata": {
        "colab": {
          "base_uri": "https://localhost:8080/"
        },
        "id": "N3PbIZxim2L9",
        "outputId": "94c844e4-989c-47d0-a63c-728a4af209a8"
      },
      "execution_count": 4,
      "outputs": [
        {
          "output_type": "stream",
          "name": "stdout",
          "text": [
            "200 is greater\n"
          ]
        }
      ]
    },
    {
      "cell_type": "markdown",
      "source": [
        "### 3.Python program to convert the temperature in degree centigrate to farenheit"
      ],
      "metadata": {
        "id": "2Vdd16_Sn5J1"
      }
    },
    {
      "cell_type": "code",
      "source": [
        "#Taking centigrate degree that is celisus as input\n",
        "\n",
        "celisus = int(input(\"Enter the temperature in celisus degree\"))\n",
        "#print(celisus)\n",
        "\n",
        "#coverting entered celisus to farenheit using formula F = (C = 9/5) + 32\n",
        "farenheit=(celisus*9/5)+32\n",
        "print(\"Farenheit degree\",farenheit)"
      ],
      "metadata": {
        "colab": {
          "base_uri": "https://localhost:8080/"
        },
        "id": "Hi68xtdOoiqm",
        "outputId": "b470b4ee-79cb-4bb4-8abb-94748675c766"
      },
      "execution_count": 6,
      "outputs": [
        {
          "output_type": "stream",
          "name": "stdout",
          "text": [
            "Enter the temperature in celisus degree35\n",
            "Farenheit degree 95.0\n"
          ]
        }
      ]
    },
    {
      "cell_type": "markdown",
      "source": [
        "### 4.Python program to find the area of a triangle whose sides are given"
      ],
      "metadata": {
        "id": "7CMo-tZzqVv8"
      }
    },
    {
      "cell_type": "code",
      "source": [
        "#input sides of triangle\n",
        "#let sides of triangle be a,b,c\n",
        "\n",
        "a=float(input(\"Enter first side of triangle\\t\"))\n",
        "b=float(input(\"Enter second side of triangle\\t\"))\n",
        "c=float(input(\"Enter third side of triangle\\t\"))\n",
        "\n",
        "#to find area of triangle when only sides are given\n",
        "#step1: find semi perimeter using formula s=(a+b+c)/2\n",
        "\n",
        "s=(a+b+c)/2\n",
        "print(\"Semi-Perimeter\",s)\n",
        "\n",
        "#Area od triangle will be A= √[s × (s – a) × (s – b) × (s – c)\n",
        "\n",
        "area=(s*(s-a)*(s-b)*(s-c))**0.5\n",
        "print(\"Area of triangle is %0.2f\" %area)\n"
      ],
      "metadata": {
        "colab": {
          "base_uri": "https://localhost:8080/"
        },
        "id": "CEo6wVhjq1jq",
        "outputId": "601c6dee-8ca0-4822-aa1e-54c08fb3a087"
      },
      "execution_count": 7,
      "outputs": [
        {
          "output_type": "stream",
          "name": "stdout",
          "text": [
            "Enter first side of triangle\t10\n",
            "Enter second side of triangle\t5\n",
            "Enter third side of triangle\t8\n",
            "Semi-Perimeter 11.5\n",
            "Area of triangle is 19.81\n"
          ]
        }
      ]
    }
  ]
}