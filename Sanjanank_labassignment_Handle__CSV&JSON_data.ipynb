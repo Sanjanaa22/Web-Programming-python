{
  "nbformat": 4,
  "nbformat_minor": 0,
  "metadata": {
    "colab": {
      "provenance": []
    },
    "kernelspec": {
      "name": "python3",
      "display_name": "Python 3"
    },
    "language_info": {
      "name": "python"
    }
  },
  "cells": [
    {
      "cell_type": "markdown",
      "source": [
        "# **LAB ASSIGNMENT -16**"
      ],
      "metadata": {
        "id": "Sha_j5tddFMN"
      }
    },
    {
      "cell_type": "markdown",
      "source": [
        "# 1)Write a python program script to read a CSV file with missing values and replace the missing values with a default values (ex:unknown or 0)\n",
        "\n",
        "# sample data(missing_value.csv)\n",
        "                         \n",
        "```\n",
        "#Name,Age,City\n",
        " Alice, ,NewYork\n",
        " Bob,25,\n",
        " Charlie,35,Chicago\n",
        "```\n",
        "\n",
        "\n",
        "#Output\n",
        "```\n",
        "# ['Name','Age','City']\n",
        "['Alice', 'Unknown' ,'NewYork']\n",
        "['Bob', '25', 'Unkown']\n",
        "['Charlie', '35', 'Chicago']\n",
        "```\n",
        "\n"
      ],
      "metadata": {
        "id": "95bRR4lydsvt"
      }
    },
    {
      "cell_type": "code",
      "execution_count": 2,
      "metadata": {
        "colab": {
          "base_uri": "https://localhost:8080/"
        },
        "id": "BnLNtBk-c_dj",
        "outputId": "25d49301-26f7-4110-eaec-622115fada8e"
      },
      "outputs": [
        {
          "output_type": "stream",
          "name": "stdout",
          "text": [
            "['Name', 'Age', 'City']\n",
            "['Alice', ' ', 'NewYork']\n",
            "['Bob', '25', 'Unknown']\n",
            "['Charlie', '35', 'Chicago']\n"
          ]
        }
      ],
      "source": [
        "import csv\n",
        "\n",
        "def read_and_replace_missing_values(filename):\n",
        "    try:\n",
        "        # Open the CSV file in read mode\n",
        "        with open(filename, mode='r') as file:\n",
        "            # Read the content of the CSV file\n",
        "            reader = csv.reader(file)\n",
        "            data = list(reader)  # Convert to list to process the rows\n",
        "\n",
        "            # Loop through each row to check for missing values\n",
        "            for row in data:\n",
        "                # Replace missing values (empty strings) with 'Unknown' or '0'\n",
        "                row = ['Unknown' if value == '' else value for value in row]\n",
        "                print(row)\n",
        "\n",
        "    except FileNotFoundError:\n",
        "        print(f\"Error: The file '{filename}' was not found.\")\n",
        "    except IOError as e:\n",
        "        print(f\"An error occurred while reading the file: {e}\")\n",
        "\n",
        "# Example usage: Replace missing values in 'missing_data.csv'\n",
        "read_and_replace_missing_values('missing_data.csv')\n"
      ]
    },
    {
      "cell_type": "markdown",
      "source": [
        "#2)Write a Python Script to validate JSON data by checking if it contains required fields and if the data types are correct(eg:Integers for IDs ,Strings for names)\n",
        "\n",
        "sample data(data.json)\n",
        "\n",
        "\n",
        "```\n",
        "[\n",
        "  {\n",
        "    \"product Id\":101,\n",
        "    \"Name\":\"WidgetA\",\n",
        "    \"Price\":25.50\n",
        "  },\n",
        "  {\n",
        "    \"product Id\":\"102\",\n",
        "    \"Name\":\"WidgetB\",\n",
        "    \"Price\":\"40.00\"\n",
        "  }\n",
        "\n",
        "```\n",
        "\n",
        "#Output\n",
        "#Invalid product id:102\n",
        "#invalid price:40.00\n"
      ],
      "metadata": {
        "id": "BxPUJJ0-gbAV"
      }
    },
    {
      "cell_type": "code",
      "source": [
        "import json\n",
        "\n",
        "def validate_json_data(filename):\n",
        "    try:\n",
        "        # Open and load the JSON data from the file\n",
        "        with open(filename, 'r') as file:\n",
        "            data = json.load(file)\n",
        "\n",
        "        # Loop through each product entry in the JSON data\n",
        "        for product in data:\n",
        "            # Check if 'product Id' is an integer\n",
        "            if not isinstance(product.get('product Id'), int):\n",
        "                print(f\"Invalid product id: {product.get('product Id')}\")\n",
        "\n",
        "            # Check if 'Price' is a float\n",
        "            if not isinstance(product.get('Price'), (float, int)):\n",
        "                print(f\"Invalid price: {product.get('Price')}\")\n",
        "\n",
        "    except FileNotFoundError:\n",
        "        print(\"Error: The file was not found.\")\n",
        "    except json.JSONDecodeError:\n",
        "        print(\"Error: Invalid JSON format.\")\n",
        "    except Exception as e:\n",
        "        print(f\"An error occurred: {e}\")\n",
        "\n",
        "# Example usage\n",
        "validate_json_data('data.json')\n"
      ],
      "metadata": {
        "colab": {
          "base_uri": "https://localhost:8080/"
        },
        "id": "wNOxPFBUh4pj",
        "outputId": "84c5dee7-7933-441d-ffa6-cf6080353fad"
      },
      "execution_count": 5,
      "outputs": [
        {
          "output_type": "stream",
          "name": "stdout",
          "text": [
            "Invalid product id: 102\n",
            "Invalid price: 40.00\n"
          ]
        }
      ]
    },
    {
      "cell_type": "code",
      "source": [],
      "metadata": {
        "id": "e37-2y3IkxU6"
      },
      "execution_count": null,
      "outputs": []
    },
    {
      "cell_type": "code",
      "source": [],
      "metadata": {
        "id": "Wsw3H9QskxRb"
      },
      "execution_count": null,
      "outputs": []
    },
    {
      "cell_type": "code",
      "source": [],
      "metadata": {
        "id": "Fa88PJcSkxOQ"
      },
      "execution_count": null,
      "outputs": []
    },
    {
      "cell_type": "code",
      "source": [],
      "metadata": {
        "id": "AAcVaPohkxLJ"
      },
      "execution_count": null,
      "outputs": []
    }
  ]
}