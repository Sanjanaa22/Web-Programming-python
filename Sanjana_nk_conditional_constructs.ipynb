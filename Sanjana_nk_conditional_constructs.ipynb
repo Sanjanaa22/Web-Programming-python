{
  "nbformat": 4,
  "nbformat_minor": 0,
  "metadata": {
    "colab": {
      "provenance": []
    },
    "kernelspec": {
      "name": "python3",
      "display_name": "Python 3"
    },
    "language_info": {
      "name": "python"
    }
  },
  "cells": [
    {
      "cell_type": "markdown",
      "source": [
        "# **LAB ASSINMENT 03**"
      ],
      "metadata": {
        "id": "RqmUZbVh5lFL"
      }
    },
    {
      "cell_type": "markdown",
      "source": [
        "# 1)Python Program to check Leap Year\n"
      ],
      "metadata": {
        "id": "OpI6a67655WG"
      }
    },
    {
      "cell_type": "code",
      "execution_count": 1,
      "metadata": {
        "colab": {
          "base_uri": "https://localhost:8080/"
        },
        "id": "mkDKhvFK0oNX",
        "outputId": "8863fa70-dd63-4b3c-af1b-be97fab8d281"
      },
      "outputs": [
        {
          "output_type": "stream",
          "name": "stdout",
          "text": [
            "Enter a year: 2028\n",
            "2028 is a leap year.\n"
          ]
        }
      ],
      "source": [
        "input_year = int(input(\"Enter a year: \"))\n",
        "\n",
        "# Check if the year is a leap year\n",
        "if (input_year % 4 == 0 and (input_year % 100 != 0 or input_year % 400 == 0)):\n",
        "    print(f\"{input_year} is a leap year.\")\n",
        "else:\n",
        "    print(f\"{input_year} is not a leap year.\")"
      ]
    },
    {
      "cell_type": "markdown",
      "source": [
        "# 2)Python Program to find the largest amoung three numbers"
      ],
      "metadata": {
        "id": "K9cF3lT87Egp"
      }
    },
    {
      "cell_type": "code",
      "source": [
        "#input all the three numbers\n",
        "num1 = float(input(\"Enter the first number: \"))\n",
        "num2 = float(input(\"Enter the second number: \"))\n",
        "num3 = float(input(\"Enter the third number: \"))\n",
        "\n",
        "# here using max() function to find largest amoung three num\n",
        "largest = max(num1, num2, num3)\n",
        "\n",
        "# Display the largest number\n",
        "print(f\"The largest number is: {largest}\")"
      ],
      "metadata": {
        "colab": {
          "base_uri": "https://localhost:8080/"
        },
        "id": "WAbjRO4u6CWg",
        "outputId": "557ca8e3-988c-4780-a5bb-5ff8efd94bf7"
      },
      "execution_count": 2,
      "outputs": [
        {
          "output_type": "stream",
          "name": "stdout",
          "text": [
            "Enter the first number: 45\n",
            "Enter the second number: 6\n",
            "Enter the third number: 1\n",
            "The largest number is: 45.0\n"
          ]
        }
      ]
    },
    {
      "cell_type": "markdown",
      "source": [
        "# 3)Python program to check if a number is positive negative or zero\n"
      ],
      "metadata": {
        "id": "bxOxokOO8hTe"
      }
    },
    {
      "cell_type": "code",
      "source": [
        "#input num\n",
        "\n",
        "num = float(input(\"Enter a number: \"))\n",
        "\n",
        "while True:\n",
        "    # Check if the number is positive\n",
        "    if num > 0:\n",
        "        print(f\"{num} is positive.\")\n",
        "        break\n",
        "\n",
        "    # if the number is negative\n",
        "    if num < 0:\n",
        "        print(f\"{num} is negative.\")\n",
        "        break\n",
        "\n",
        "    # if the number is zero\n",
        "    if num == 0:\n",
        "        print(f\"{num} is zero.\")\n",
        "        break\n"
      ],
      "metadata": {
        "colab": {
          "base_uri": "https://localhost:8080/"
        },
        "id": "F4m9yXsU6CTn",
        "outputId": "bcffb7ab-9b04-4e74-d27b-d23b241500f8"
      },
      "execution_count": 3,
      "outputs": [
        {
          "output_type": "stream",
          "name": "stdout",
          "text": [
            "Enter a number: -2\n",
            "-2.0 is negative.\n"
          ]
        }
      ]
    },
    {
      "cell_type": "markdown",
      "source": [
        "# 4)A Toy Vendor supplies three types of toys:Battery -Based ,Key-Based and Electrical charging -Based toys.\n",
        "\n",
        "# The vendor gives a discount of 10% on orders for Battery -Based toys if the orderis for more than Rs 1000\n",
        "#on orders for more than 100 for Key-Based toys , a discount of 5% is given\n",
        "\n",
        "#and a discount of 10% is given on orders for Electrical charging -Based toys of value more than Rs 500\n",
        "\n",
        "# Assume that the numeric code 1 2 and 3 are used for Battery -Based ,Key-Based and Electrical charging -Based toys respectively.\n",
        "# Write a Program that reads the product code and the order amount and print out the net amount that the customer is required to pay after the discount.\n"
      ],
      "metadata": {
        "id": "7c4BM48a9zeX"
      }
    },
    {
      "cell_type": "code",
      "source": [
        "# Function to calculate the net amount after applying discount\n",
        "\n",
        "def apply_discount(product_code, order_amount):\n",
        "    if product_code == 1:  # Battery-Based toys\n",
        "        if order_amount > 1000:\n",
        "            order_amount -= 0.10 * order_amount  # Apply 10% discount\n",
        "    elif product_code == 2:  # Key-Based toys\n",
        "        if order_amount > 100:\n",
        "            order_amount -= 0.05 * order_amount  # Apply 5% discount\n",
        "    elif product_code == 3:  # Electrical charging-Based toys\n",
        "        if order_amount > 500:\n",
        "            order_amount -= 0.10 * order_amount  # Apply 10% discount\n",
        "    return order_amount\n",
        "\n",
        "# Input for product code and order amount\n",
        "\n",
        "product_code = int(input(\"Enter the product code (1 for Battery-Based, 2 for Key-Based, 3 for Electrical charging-Based): \"))\n",
        "order_amount = float(input(\"Enter the order amount: \"))\n",
        "\n",
        "# Apply discount and display the net amount\n",
        "\n",
        "net_amount = apply_discount(product_code, order_amount)\n",
        "print(f\"The net amount to be paid is: Rs {net_amount}\")\n"
      ],
      "metadata": {
        "colab": {
          "base_uri": "https://localhost:8080/"
        },
        "id": "keHJ-MvyLifD",
        "outputId": "eef9f7d8-aec0-41c7-f2ce-cd47fcd3f931"
      },
      "execution_count": 4,
      "outputs": [
        {
          "output_type": "stream",
          "name": "stdout",
          "text": [
            "Enter the product code (1 for Battery-Based, 2 for Key-Based, 3 for Electrical charging-Based): 2\n",
            "Enter the order amount: 768\n",
            "The net amount to be paid is: Rs 729.6\n"
          ]
        }
      ]
    },
    {
      "cell_type": "markdown",
      "source": [
        "5)A Transport Company Charges the fare According to following table:\n",
        "\n",
        "Distance                             |          Charges\n",
        "-------------------------------------|----------------------------------------\n",
        "1 - 50                               |          8Rs/km\n",
        "51 -100                              |          10Rs/km\n",
        ">100                                 |          12Rs/km"
      ],
      "metadata": {
        "id": "9tckCcwrNzRD"
      }
    },
    {
      "cell_type": "code",
      "source": [
        "# Function for calculating fare\n",
        "\n",
        "def calculate_fare(distance):\n",
        "    if 1 <= distance <= 50:\n",
        "        return distance * 8  # 8 Rs/km for distances between 1 and 50 km\n",
        "    elif 51 <= distance <= 100:\n",
        "        return distance * 10  # 10 Rs/km for distances between 51 and 100 km\n",
        "    elif distance > 100:\n",
        "        return distance * 12  # 12 Rs/km for distances greater than 100 km\n",
        "    else:\n",
        "        return 0  # For any negative or zero distance\n",
        "\n",
        "# get distance from user\n",
        "distance = float(input(\"Enter the distance travelled in kilometers: \"))\n",
        "\n",
        "# function call\n",
        "fare = calculate_fare(distance)\n",
        "\n",
        "# Display the total fare\n",
        "print(f\"The total fare for {distance} km is: Rs {fare}\")\n"
      ],
      "metadata": {
        "colab": {
          "base_uri": "https://localhost:8080/"
        },
        "id": "rt_yao9PLibr",
        "outputId": "55ff31bd-9531-4f72-e1b8-801e64df701b"
      },
      "execution_count": 5,
      "outputs": [
        {
          "output_type": "stream",
          "name": "stdout",
          "text": [
            "Enter the distance travelled in kilometers: 89\n",
            "The total fare for 89.0 km is: Rs 890.0\n"
          ]
        }
      ]
    },
    {
      "cell_type": "code",
      "source": [],
      "metadata": {
        "id": "VQGviDZ4Lhy-"
      },
      "execution_count": null,
      "outputs": []
    },
    {
      "cell_type": "code",
      "source": [],
      "metadata": {
        "id": "Qerkj5aCTlaN"
      },
      "execution_count": null,
      "outputs": []
    },
    {
      "cell_type": "code",
      "source": [],
      "metadata": {
        "id": "Y8RNfzNRTlWs"
      },
      "execution_count": null,
      "outputs": []
    },
    {
      "cell_type": "code",
      "source": [],
      "metadata": {
        "id": "rzhO4GRdTlTt"
      },
      "execution_count": null,
      "outputs": []
    },
    {
      "cell_type": "code",
      "source": [],
      "metadata": {
        "id": "QAcvEdeDTlQz"
      },
      "execution_count": null,
      "outputs": []
    },
    {
      "cell_type": "code",
      "source": [],
      "metadata": {
        "id": "XKrI-FeITlNw"
      },
      "execution_count": null,
      "outputs": []
    },
    {
      "cell_type": "code",
      "source": [],
      "metadata": {
        "id": "AY9cUANsTlKu"
      },
      "execution_count": null,
      "outputs": []
    },
    {
      "cell_type": "markdown",
      "source": [],
      "metadata": {
        "id": "-i2_fjDR6Bem"
      }
    }
  ]
}