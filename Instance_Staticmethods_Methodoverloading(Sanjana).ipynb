{
  "nbformat": 4,
  "nbformat_minor": 0,
  "metadata": {
    "colab": {
      "provenance": []
    },
    "kernelspec": {
      "name": "python3",
      "display_name": "Python 3"
    },
    "language_info": {
      "name": "python"
    }
  },
  "cells": [
    {
      "cell_type": "markdown",
      "source": [
        "# **Instance_StaticMethods_MethodOverloading LAB ASSIGNMENT**"
      ],
      "metadata": {
        "id": "BujOXHNulMz9"
      }
    },
    {
      "cell_type": "markdown",
      "source": [
        "# Library Management System\n",
        "\n",
        "Objective : Design a library management system to manage books,authors ,and library operations using Python classes.Implement instance variables, class variables , method overloading(simulated) , static methods in your solution\n",
        "\n",
        "\n",
        "\n",
        "         \n",
        "\n",
        "   \n",
        "\n",
        "\n",
        "\n",
        "  \n",
        "\n",
        "\n",
        "\n",
        "\n"
      ],
      "metadata": {
        "id": "OhXlktcKmMRn"
      }
    },
    {
      "cell_type": "markdown",
      "source": [
        "1) Class Definations:\n",
        "\n",
        "  \n",
        "*   Book Class:\n",
        "\n",
        "   *   Instance Variable:\n",
        "\n",
        "          *   title : The title of the book\n",
        "          *   author : The author of the book\n",
        "          *   isbn : The ISBN number of the book\n",
        "\n",
        "   *   Class Variable:\n",
        "   \n",
        "          *   total_books: A class Variable to keep track of the total number of books in the library\n",
        "\n",
        "\n",
        "*   Author Class:\n",
        "\n",
        "   *   Instance Variable:\n",
        "\n",
        "          *   name : The name of the author\n",
        "          *   birthdate : The birthdate of the author\n",
        "          *   books : A list of Book instances written by the author\n",
        "\n",
        "   *   Class Variable:\n",
        "   \n",
        "          *   total_authors: A class Variable to keep track of the total number of authors in the system\n",
        "\n",
        "\n",
        "*   Library Class:\n",
        "\n",
        "   *   Instance Variable:\n",
        "\n",
        "          *   books : A listed of book instances in the library\n",
        "          *   authors : A list of Author instances associated with the library\n",
        "      \n",
        " *   Class Variable:\n",
        "   \n",
        "          *   library_count: A class Variable to keep track of the  number of libraries created."
      ],
      "metadata": {
        "id": "UHum_bxOqzoE"
      }
    },
    {
      "cell_type": "markdown",
      "source": [
        "2) Initialization :\n",
        "\n",
        "  \n",
        "*   Book Class:\n",
        "\n",
        "   *   Initialize the Book class with title , author ,and isbn,Increment the total_books class variablewhen a new book is added\n",
        "\n",
        "\n",
        "*   Author Class:\n",
        "\n",
        "   *  Initialize the author class with name and birthdate.Increment the total_authors class variable when a new author is added.\n",
        "\n",
        "\n",
        "*   Library Class:\n",
        "\n",
        "   *  initialize the library class with empty lists for books and authors.\n",
        "      Increment the library_count class variable when a new library is created"
      ],
      "metadata": {
        "id": "HoSkLzZeq1T_"
      }
    },
    {
      "cell_type": "markdown",
      "source": [
        "3) Instance Methods:\n",
        "\n",
        "  \n",
        "*   Book Class:\n",
        "\n",
        "      *   update_title(new_title): update the title of the book\n",
        "      *   update_author(new_author) : update the  author of the book\n",
        "\n",
        "\n",
        "*   Author Class:\n",
        "      *   add_book(book):Add a Book instance to the author's list of books\n",
        "      *   remove_book(isbn): Remove a book from the author's list based on the ISBN\n",
        "\n",
        "*   Library Class:\n",
        "\n",
        "      *   add_book(book) : Add a Book instance to the library's collection\n",
        "      *   remove_book(isbn) : Remove a book from the library's collection based on the ISBN\n",
        "      *   list_books():List all books in the library.\n",
        "   "
      ],
      "metadata": {
        "id": "TreZz4E9tEfA"
      }
    },
    {
      "cell_type": "markdown",
      "source": [
        "4) Method Overloading(Simulated):\n",
        "\n",
        "  \n",
        "*   Book Class:\n",
        "\n",
        "   *   simulate method overloading with display_info() to handle displaying information based on user type(libriran or reader)\n",
        "\n",
        "   "
      ],
      "metadata": {
        "id": "JhNF0uFwwncb"
      }
    },
    {
      "cell_type": "markdown",
      "source": [
        "3) Static Methods:\n",
        "\n",
        "  \n",
        "*   Book Class:\n",
        "\n",
        "      *   book_info():A static method that provides general information about books.\n",
        "\n",
        "\n",
        "*   Author Class:\n",
        "      *   author_info():A static method that provides general information about authors\n",
        "     \n",
        "*   Library Class:\n",
        "\n",
        "      *   library_info() : A static method that provides general information about libraries\n",
        "     "
      ],
      "metadata": {
        "id": "Hglmggqix2WG"
      }
    },
    {
      "cell_type": "markdown",
      "source": [
        "3)Class Methods:\n",
        "\n",
        "  \n",
        "*   Book Class:\n",
        "\n",
        "      *   get_total_books():A class method to return the total number of books\n",
        "\n",
        "*   Author Class:\n",
        "      *   get_total_authors():A class method to return the total number of authors\n",
        "     \n",
        "*   Library Class:\n",
        "\n",
        "      *   get_library_count() : A class method to return the total number of libraries"
      ],
      "metadata": {
        "id": "QbqZEw_6y1az"
      }
    },
    {
      "cell_type": "markdown",
      "source": [
        "Instructions:\n",
        "\n",
        "  \n",
        "1.   Create the classes\n",
        "\n",
        "      *   Implement the Book ,Author , and Library classes based on the specifications above\n",
        "\n",
        "2   Test the  Classes:\n",
        "      *   create instances of Book,Author and Library\n",
        "      *   Add and remove books and authors from libraries\n",
        "      *  use the method overloading simulation to display different types of book information\n",
        "      *   call static methods to get general information and class methods to get counts.\n",
        "\n",
        "\n"
      ],
      "metadata": {
        "id": "XhREE8bdzglx"
      }
    },
    {
      "cell_type": "code",
      "source": [
        "class Book:\n",
        "    total_books = 0  # Class variable\n",
        "\n",
        "    def __init__(self, title, author, isbn):\n",
        "        self.title = title\n",
        "        self.author = author  # This should be an instance of Author\n",
        "        self.isbn = isbn\n",
        "        Book.total_books += 1\n",
        "\n",
        "    def update_title(self, new_title):\n",
        "        self.title = new_title\n",
        "\n",
        "    def update_author(self, new_author):\n",
        "        self.author = new_author\n",
        "\n",
        "    def display_info(self, user_type=\"reader\"):\n",
        "        if user_type == \"librarian\":\n",
        "            return f\"Title: {self.title}, Author: {self.author.name}, ISBN: {self.isbn}\"\n",
        "        else:  # reader\n",
        "            return f\"Title: {self.title}, Author: {self.author.name}\"\n",
        "\n",
        "    @staticmethod\n",
        "    def book_info():\n",
        "        return \"Books are available for borrowing and reference.\"\n",
        "\n",
        "    @classmethod\n",
        "    def get_total_books(cls):\n",
        "        return cls.total_books\n",
        "\n",
        "\n",
        "class Author:\n",
        "    total_authors = 0  # Class variable\n",
        "\n",
        "    def __init__(self, name, birthdate):\n",
        "        self.name = name\n",
        "        self.birthdate = birthdate\n",
        "        self.books = []  # List of Book instances\n",
        "        Author.total_authors += 1\n",
        "\n",
        "    def add_book(self, book):\n",
        "        if isinstance(book, Book):\n",
        "            self.books.append(book)\n",
        "\n",
        "    def remove_book(self, isbn):\n",
        "        self.books = [book for book in self.books if book.isbn != isbn]\n",
        "\n",
        "    @staticmethod\n",
        "    def author_info():\n",
        "        return \"Authors contribute to the collection with their works.\"\n",
        "\n",
        "    @classmethod\n",
        "    def get_total_authors(cls):\n",
        "        return cls.total_authors\n",
        "\n",
        "\n",
        "class Library:\n",
        "    library_count = 0  # Class variable\n",
        "\n",
        "    def __init__(self):\n",
        "        self.books = []  # List of Book instances\n",
        "        self.authors = []  # List of Author instances\n",
        "        Library.library_count += 1\n",
        "\n",
        "    def add_book(self, book):\n",
        "        if isinstance(book, Book):\n",
        "            self.books.append(book)\n",
        "\n",
        "    def remove_book(self, isbn):\n",
        "        self.books = [book for book in self.books if book.isbn != isbn]\n",
        "\n",
        "    def list_books(self):\n",
        "        return [book.display_info() for book in self.books]\n",
        "\n",
        "    def add_author(self, author):\n",
        "        if isinstance(author, Author):\n",
        "            self.authors.append(author)\n",
        "\n",
        "    def remove_author(self, name):\n",
        "        self.authors = [author for author in self.authors if author.name != name]\n",
        "\n",
        "    @staticmethod\n",
        "    def library_info():\n",
        "        return \"Libraries contain collections of books and authors.\"\n",
        "\n",
        "    @classmethod\n",
        "    def get_library_count(cls):\n",
        "        return cls.library_count\n",
        "\n",
        "\n"
      ],
      "metadata": {
        "id": "eZ1DcZkbwnE-"
      },
      "execution_count": 1,
      "outputs": []
    },
    {
      "cell_type": "code",
      "source": [
        "#TESTING THE CLASSES\n",
        "\n",
        "# Create Authors\n",
        "author1 = Author(\"Chetan Bhagat\", \"1974-04-22\")\n",
        "author2 = Author(\"Arundhati Roy\", \"1961-11-24\")\n",
        "\n",
        "# Create Books\n",
        "book1 = Book(\"Five Point Someone\", author1, \"9788129104595\")\n",
        "book2 = Book(\"The God of Small Things\", author2, \"9780679457312\")\n",
        "\n",
        "# Add books to authors\n",
        "author1.add_book(book1)\n",
        "author2.add_book(book2)\n",
        "\n",
        "# Create Library\n",
        "library = Library()\n",
        "\n",
        "# Add authors and books to library\n",
        "library.add_author(author1)\n",
        "library.add_author(author2)\n",
        "library.add_book(book1)\n",
        "library.add_book(book2)\n",
        "\n",
        "# List books in library\n",
        "print(\"Books in Library:\")\n",
        "print(\"\\n\".join(library.list_books()))\n",
        "\n",
        "# Display method overloading simulation\n",
        "print(\"\\nBook Info for Reader:\")\n",
        "print(book1.display_info(\"reader\"))\n",
        "print(\"Book Info for Librarian:\")\n",
        "print(book1.display_info(\"librarian\"))\n",
        "\n",
        "# Remove a book\n",
        "library.remove_book(\"9780679457312\")\n",
        "print(\"\\n Books in Library after removing one:\")\n",
        "print(\"\\n\".join(library.list_books()))\n",
        "\n",
        "# Static method calls\n",
        "print(\"\\n Static Info:\")\n",
        "print(Book.book_info())\n",
        "print(Author.author_info())\n",
        "print(Library.library_info())\n",
        "\n",
        "# Class method calls\n",
        "print(\"\\n Class Counts:\")\n",
        "print(\"Total Books:\", Book.get_total_books())\n",
        "print(\"Total Authors:\", Author.get_total_authors())\n",
        "print(\"Total Libraries:\", Library.get_library_count())\n",
        "\n"
      ],
      "metadata": {
        "colab": {
          "base_uri": "https://localhost:8080/"
        },
        "id": "qEOJxzV81ICx",
        "outputId": "57bf3c3d-7192-4f8e-efc3-f6ba5a240bf7"
      },
      "execution_count": 4,
      "outputs": [
        {
          "output_type": "stream",
          "name": "stdout",
          "text": [
            "Books in Library:\n",
            "Title: Five Point Someone, Author: Chetan Bhagat\n",
            "Title: The God of Small Things, Author: Arundhati Roy\n",
            "\n",
            "Book Info for Reader:\n",
            "Title: Five Point Someone, Author: Chetan Bhagat\n",
            "Book Info for Librarian:\n",
            "Title: Five Point Someone, Author: Chetan Bhagat, ISBN: 9788129104595\n",
            "\n",
            " Books in Library after removing one:\n",
            "Title: Five Point Someone, Author: Chetan Bhagat\n",
            "\n",
            " Static Info:\n",
            "Books are available for borrowing and reference.\n",
            "Authors contribute to the collection with their works.\n",
            "Libraries contain collections of books and authors.\n",
            "\n",
            " Class Counts:\n",
            "Total Books: 6\n",
            "Total Authors: 6\n",
            "Total Libraries: 3\n"
          ]
        }
      ]
    },
    {
      "cell_type": "code",
      "execution_count": null,
      "metadata": {
        "id": "oe1z0Xd_k1wo"
      },
      "outputs": [],
      "source": []
    }
  ]
}