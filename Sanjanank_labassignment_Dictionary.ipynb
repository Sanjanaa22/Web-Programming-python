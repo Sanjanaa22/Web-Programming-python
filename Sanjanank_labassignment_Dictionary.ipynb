{
  "nbformat": 4,
  "nbformat_minor": 0,
  "metadata": {
    "colab": {
      "provenance": []
    },
    "kernelspec": {
      "name": "python3",
      "display_name": "Python 3"
    },
    "language_info": {
      "name": "python"
    }
  },
  "cells": [
    {
      "cell_type": "markdown",
      "source": [
        "# **LAB ASSIGNMENT - 11**"
      ],
      "metadata": {
        "id": "IbViM_J35Ew8"
      }
    },
    {
      "cell_type": "markdown",
      "source": [
        "# 1)Write a python program and calculate the mean of the below dictionary\n",
        "\n",
        "# test_dict={\"A\":6,\"B\":9,\"C\":5,\"D\":7,\"E\":4}\n",
        "# output:6.2"
      ],
      "metadata": {
        "id": "LerWMZDX9x-U"
      }
    },
    {
      "cell_type": "code",
      "execution_count": 1,
      "metadata": {
        "colab": {
          "base_uri": "https://localhost:8080/"
        },
        "id": "qOg66JAH5Aj8",
        "outputId": "3e3854de-b96a-4603-9172-fcc4e4f08431"
      },
      "outputs": [
        {
          "output_type": "stream",
          "name": "stdout",
          "text": [
            "total Sum : 31\n",
            "Mean of given dictionary: 6.2\n"
          ]
        }
      ],
      "source": [
        "#given dctionary keys and values\n",
        "\n",
        "test_dict={\"A\":6,\"B\":9,\"C\":5,\"D\":7,\"E\":4}\n",
        "\n",
        "total_sum=0\n",
        "\n",
        "#for loop to get total of values\n",
        "for values in test_dict.values():\n",
        "  total_sum+= values\n",
        "\n",
        "print(\"total Sum :\" ,total_sum)\n",
        "\n",
        "mean =total_sum/len(test_dict)\n",
        "\n",
        "print(\"Mean of given dictionary:\",mean)"
      ]
    },
    {
      "cell_type": "markdown",
      "source": [
        "# 2)Write a python Script to concatenate the following dictionaries to create a new one:\n",
        "\n",
        "# sample dictionary\n",
        "\n",
        "# dict1={1:10,2:20}\n",
        "# dict2={3:30,4:40}\n",
        "# dict3={5:50,6:60}\n",
        "\n",
        "# expected result : {1:10,2:20,3:30,4:40,5:50,6:60}"
      ],
      "metadata": {
        "id": "fn1ge8N-A6_p"
      }
    },
    {
      "cell_type": "code",
      "source": [
        "# given dictionaries\n",
        "dict1 = {1: 10, 2: 20}\n",
        "dict2 = {3: 30, 4: 40}\n",
        "dict3 = {5: 50, 6: 60}\n",
        "\n",
        "# Concatenate dictionaries using the unpacking operator (**)\n",
        "result = {**dict1, **dict2, **dict3}\n",
        "\n",
        "# Print the result\n",
        "print(\"Concatenated Dictionary:\", result)"
      ],
      "metadata": {
        "colab": {
          "base_uri": "https://localhost:8080/"
        },
        "id": "09YtZK-XCTug",
        "outputId": "e3787c97-8033-421e-ad04-e2897231bf08"
      },
      "execution_count": 2,
      "outputs": [
        {
          "output_type": "stream",
          "name": "stdout",
          "text": [
            "Concatenated Dictionary: {1: 10, 2: 20, 3: 30, 4: 40, 5: 50, 6: 60}\n"
          ]
        }
      ]
    },
    {
      "cell_type": "markdown",
      "source": [
        "# 3)write a python program to get the key,value and item in a dictionary\n",
        "\n",
        "input:\n",
        "\n",
        "dict_num ={1:10,2:20,3:30,4:40,5:50,6:60}\n",
        "\n",
        "output\n",
        "\n",
        "  key  |  value\n",
        "-------|-----------\n",
        "  1    |   10\n",
        "  2    |   20\n",
        "  3    |   30\n",
        "  4    |   40\n",
        "  5    |   50\n",
        "  6    |   60"
      ],
      "metadata": {
        "id": "OSqeKbzoCUMR"
      }
    },
    {
      "cell_type": "code",
      "source": [
        "# given dictionary\n",
        "dict_num = {1: 10, 2: 20, 3: 30, 4: 40, 5: 50, 6: 60}\n",
        "\n",
        "# Print headers for key and value\n",
        "print(\"key\\tvalue\")\n",
        "\n",
        "# Iterate through the dictionary and print each key-value pair\n",
        "for key, value in dict_num.items():\n",
        "    print(f\"{key}\\t{value}\")\n"
      ],
      "metadata": {
        "colab": {
          "base_uri": "https://localhost:8080/"
        },
        "id": "JfRq3C_YIXuz",
        "outputId": "bd7711dc-8af1-4e33-c3f7-955624d19f1e"
      },
      "execution_count": 4,
      "outputs": [
        {
          "output_type": "stream",
          "name": "stdout",
          "text": [
            "key\tvalue\n",
            "1\t10\n",
            "2\t20\n",
            "3\t30\n",
            "4\t40\n",
            "5\t50\n",
            "6\t60\n"
          ]
        }
      ]
    },
    {
      "cell_type": "markdown",
      "source": [
        "#4)write a python program to get the key, value and item in a dictionary.\n",
        "\n",
        "# input:\n",
        "\n",
        "# input_dict={1:10,2:20,3:None,4:40,5:None;6:60}\n",
        "\n",
        "# output:\n",
        "#Dictionay with empty items dropped:\n",
        "# {1:10,2:10,4:40,6:60}"
      ],
      "metadata": {
        "id": "mi8KG3unDdSB"
      }
    },
    {
      "cell_type": "code",
      "source": [
        "#given dictionary with\n",
        "input_dict = {1: 10, 2: 20, 3: None, 4: 40, 5: None, 6: 60}\n",
        "\n",
        "#Remove items where the value is None\n",
        "for key in list(input_dict.keys()):\n",
        "    if input_dict[key] is None:\n",
        "        del input_dict[key]\n",
        "\n",
        "#print the updated dictionary\n",
        "print(\"Dictionary with empty items dropped:\")\n",
        "print(input_dict)\n"
      ],
      "metadata": {
        "colab": {
          "base_uri": "https://localhost:8080/"
        },
        "id": "-yQSFqAwFSo-",
        "outputId": "ba225b02-c82c-49da-e6f9-b470e6619803"
      },
      "execution_count": 5,
      "outputs": [
        {
          "output_type": "stream",
          "name": "stdout",
          "text": [
            "Dictionary with empty items dropped:\n",
            "{1: 10, 2: 20, 4: 40, 6: 60}\n"
          ]
        }
      ]
    },
    {
      "cell_type": "code",
      "source": [],
      "metadata": {
        "id": "txkhV22yI20b"
      },
      "execution_count": null,
      "outputs": []
    },
    {
      "cell_type": "code",
      "source": [],
      "metadata": {
        "id": "NeLzxWYVI2w-"
      },
      "execution_count": null,
      "outputs": []
    },
    {
      "cell_type": "code",
      "source": [],
      "metadata": {
        "id": "NXk-u-NcI2uL"
      },
      "execution_count": null,
      "outputs": []
    },
    {
      "cell_type": "code",
      "source": [],
      "metadata": {
        "id": "cZaRS87wI2re"
      },
      "execution_count": null,
      "outputs": []
    },
    {
      "cell_type": "code",
      "source": [],
      "metadata": {
        "id": "YjDwIUg3I2o5"
      },
      "execution_count": null,
      "outputs": []
    }
  ]
}