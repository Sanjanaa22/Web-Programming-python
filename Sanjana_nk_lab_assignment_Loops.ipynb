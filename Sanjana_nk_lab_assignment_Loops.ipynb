{
  "nbformat": 4,
  "nbformat_minor": 0,
  "metadata": {
    "colab": {
      "provenance": []
    },
    "kernelspec": {
      "name": "python3",
      "display_name": "Python 3"
    },
    "language_info": {
      "name": "python"
    }
  },
  "cells": [
    {
      "cell_type": "markdown",
      "source": [
        "# **Lab Assignment-05**\n"
      ],
      "metadata": {
        "id": "Llh21qhkBtXM"
      }
    },
    {
      "cell_type": "markdown",
      "source": [
        "# 1.Write a Python Program To reverse a number using while loop"
      ],
      "metadata": {
        "id": "ObTdyF7SB81V"
      }
    },
    {
      "cell_type": "code",
      "source": [
        "# Take user input for the number\n",
        "num = int(input(\"Enter a number: \"))\n",
        "\n",
        "# Initialize the variable to store the reversed number\n",
        "rev_num = 0\n",
        "\n",
        "# While loop to reverse the number\n",
        "while num > 0:\n",
        "    rev_num = rev_num * 10 + num % 10\n",
        "    num //= 10\n",
        "\n",
        "# Display the reversed number\n",
        "print(\"The reversed number is:\", rev_num)\n"
      ],
      "metadata": {
        "colab": {
          "base_uri": "https://localhost:8080/"
        },
        "id": "sJlNpLUMcBVG",
        "outputId": "5f32c2b0-c40b-41eb-d021-52cbc2c4cd6a"
      },
      "execution_count": 1,
      "outputs": [
        {
          "output_type": "stream",
          "name": "stdout",
          "text": [
            "Enter a number: 78555\n",
            "The reversed number is: 55587\n"
          ]
        }
      ]
    },
    {
      "cell_type": "markdown",
      "source": [
        "# 2.Write a Python Program to check whether a number is palindrome or not"
      ],
      "metadata": {
        "id": "rxHkV5rhCNr3"
      }
    },
    {
      "cell_type": "code",
      "source": [
        "# Take user input for the number\n",
        "num = int(input(\"Enter a number: \"))\n",
        "\n",
        "# Convert the number to a string to easily reverse it\n",
        "if str(num) == str(num)[::-1]:\n",
        "    print(f\"{num} is a palindrome.\")\n",
        "else:\n",
        "    print(f\"{num} is not a palindrome.\")"
      ],
      "metadata": {
        "colab": {
          "base_uri": "https://localhost:8080/"
        },
        "id": "okShHtlqdjXG",
        "outputId": "e1a24d17-0eea-4351-a14b-e85e085c485e"
      },
      "execution_count": 2,
      "outputs": [
        {
          "output_type": "stream",
          "name": "stdout",
          "text": [
            "Enter a number: 653\n",
            "653 is not a palindrome.\n"
          ]
        }
      ]
    },
    {
      "cell_type": "markdown",
      "source": [
        "# 3.Write a Python Program finding a factorial of given a number using a while loop"
      ],
      "metadata": {
        "id": "OXS-K42OCbmb"
      }
    },
    {
      "cell_type": "code",
      "source": [
        "# Take user input for the number\n",
        "num = int(input(\"Enter a number: \"))\n",
        "\n",
        "# Initialize the result to 1\n",
        "result = 1\n",
        "\n",
        "# Check if the number is 0, as the factorial of 0 is 1\n",
        "if num == 0:\n",
        "    print(\"The factorial is: 1\")\n",
        "else:\n",
        "    # Use a while loop to calculate the factorial\n",
        "    i = 1\n",
        "    while i <= num:\n",
        "        result *= i  # Multiply result by i\n",
        "        i += 1  # Increment i by 1\n",
        "\n",
        "    # Display the result\n",
        "    print(f\"The factorial is: {result}\")\n"
      ],
      "metadata": {
        "colab": {
          "base_uri": "https://localhost:8080/"
        },
        "id": "ZMF5I05vt1Zc",
        "outputId": "c40fc5c5-a11a-4f85-b606-077942b5ab85"
      },
      "execution_count": 4,
      "outputs": [
        {
          "output_type": "stream",
          "name": "stdout",
          "text": [
            "Enter a number: 7\n",
            "The factorial is: 5040\n"
          ]
        }
      ]
    },
    {
      "cell_type": "markdown",
      "source": [
        "# 4.Accept numbers using Input() function until the user enters zero.If user input is zero then break the while loop and display sum of all numbers.\n"
      ],
      "metadata": {
        "id": "Yli11M7pC3qw"
      }
    },
    {
      "cell_type": "code",
      "source": [
        "# Initialize the sum variable\n",
        "total_sum = 0\n",
        "\n",
        "# Start an infinite loop to accept numbers\n",
        "while True:\n",
        "    # Take user input for the number\n",
        "    num = int(input(\"Enter a number (0 to stop): \"))\n",
        "\n",
        "    # Check if the number is zero\n",
        "    if num == 0:\n",
        "        break  # Exit the loop if the number is zero\n",
        "\n",
        "    # Add the entered number to the total sum\n",
        "    total_sum += num\n",
        "\n",
        "# Display the sum of all numbers entered\n",
        "print(\"The sum of all numbers is:\", total_sum)\n"
      ],
      "metadata": {
        "colab": {
          "base_uri": "https://localhost:8080/"
        },
        "id": "xdf00oOFb4QD",
        "outputId": "831e1633-8f65-48f6-8737-b11c362c3f49"
      },
      "execution_count": 6,
      "outputs": [
        {
          "output_type": "stream",
          "name": "stdout",
          "text": [
            "Enter a number (0 to stop): 5\n",
            "Enter a number (0 to stop): 5\n",
            "Enter a number (0 to stop): 3\n",
            "Enter a number (0 to stop): 6\n",
            "Enter a number (0 to stop): 0\n",
            "The sum of all numbers is: 19\n"
          ]
        }
      ]
    },
    {
      "cell_type": "code",
      "source": [],
      "metadata": {
        "id": "S9E-_78jb3uh"
      },
      "execution_count": null,
      "outputs": []
    },
    {
      "cell_type": "code",
      "source": [],
      "metadata": {
        "id": "1sHXGmW4b3q2"
      },
      "execution_count": null,
      "outputs": []
    },
    {
      "cell_type": "code",
      "source": [],
      "metadata": {
        "id": "FkKE_XhWb3cN"
      },
      "execution_count": null,
      "outputs": []
    },
    {
      "cell_type": "code",
      "execution_count": null,
      "metadata": {
        "id": "rW310_DlBkFN"
      },
      "outputs": [],
      "source": []
    }
  ]
}