{
  "nbformat": 4,
  "nbformat_minor": 0,
  "metadata": {
    "colab": {
      "provenance": []
    },
    "kernelspec": {
      "name": "python3",
      "display_name": "Python 3"
    },
    "language_info": {
      "name": "python"
    }
  },
  "cells": [
    {
      "cell_type": "markdown",
      "source": [
        "# **SETS LAB ASSIGNMENT**"
      ],
      "metadata": {
        "id": "iux7bkiz9Oi0"
      }
    },
    {
      "cell_type": "markdown",
      "source": [
        "Lab 1:Managing an online Inventory\n",
        "\n",
        "Scenerio : you manage an online store that sells various products.you need to keep track of which products are in stock and which are out of stock .Use python sets to manage this inventory.\n",
        "\n",
        "Tasks:\n",
        "\n",
        "1.   create a set in_stock containing the products 'laptop','mouse','keyboard','monitor'\n",
        "2.   create a set out_of_stock containing 'printer' and 'webcam'\n",
        "3.   A new shipment arrives , restocking the 'printer' and adding a new product 'tablet' . Update the in_stock set accordingly\n",
        "4.   A customer reports that the last 'monitor' was sold .Move 'monitor' to the out_of_stock set.\n",
        "5.   find out the products are either in stock or out of stock ,but not both\n",
        "6.   calculate which products are still available for sale\n",
        "\n",
        "\n",
        "\n",
        "\n",
        "\n",
        "\n"
      ],
      "metadata": {
        "id": "m_pgMnQM-LGS"
      }
    },
    {
      "cell_type": "code",
      "source": [
        "# Step 1: Initial sets\n",
        "in_stock = {'laptop', 'mouse', 'keyboard', 'monitor'}\n",
        "out_of_stock = {'printer', 'webcam'}\n",
        "\n",
        "# Step 2: A shipment arrives — restock 'printer' and add 'tablet'\n",
        "in_stock.add('printer')   # move 'printer' into in_stock\n",
        "in_stock.add('tablet')    # add new product 'tablet'\n",
        "out_of_stock.discard('printer')  # remove 'printer' from out_of_stock if present\n",
        "\n",
        "# Step 3: 'monitor' is sold out — move to out_of_stock\n",
        "in_stock.discard('monitor')       # remove from in_stock\n",
        "out_of_stock.add('monitor')       # add to out_of_stock\n",
        "\n",
        "# Step 4: Find products that are either in stock or out of stock, but not both\n",
        "exclusive_products = in_stock.symmetric_difference(out_of_stock)\n",
        "\n",
        "# Step 5: Products still available for sale\n",
        "available_products = in_stock.copy()\n",
        "\n",
        "# Final Output\n",
        "print(\"````````````````````````````````````````````````````````````````````````````````````````````\\n\")\n",
        "print(\"\\t\\t\\tManaging Online Inventory\\n\")\n",
        "print(\"````````````````````````````````````````````````````````````````````````````````````````````\\n\")\n",
        "print(\"In Stock:\", in_stock,\"\\n\")\n",
        "print(\"Out of Stock:\", out_of_stock,\"\\n\")\n",
        "print(\"Products that are either in stock or out of stock, but not both:\", exclusive_products,\"\\n\")\n",
        "print(\"Products still available for sale:\", available_products)\n"
      ],
      "metadata": {
        "colab": {
          "base_uri": "https://localhost:8080/"
        },
        "id": "vQM6DgS39mQo",
        "outputId": "5420c332-a721-41d6-8968-ce421c35f6e7"
      },
      "execution_count": 8,
      "outputs": [
        {
          "output_type": "stream",
          "name": "stdout",
          "text": [
            "````````````````````````````````````````````````````````````````````````````````````````````\n",
            "\n",
            "\t\t\tManaging Online Inventory\n",
            "\n",
            "````````````````````````````````````````````````````````````````````````````````````````````\n",
            "\n",
            "In Stock: {'printer', 'laptop', 'mouse', 'keyboard', 'tablet'} \n",
            "\n",
            "Out of Stock: {'monitor', 'webcam'} \n",
            "\n",
            "Products that are either in stock or out of stock, but not both: {'monitor', 'webcam', 'printer', 'laptop', 'mouse', 'keyboard', 'tablet'} \n",
            "\n",
            "Products still available for sale: {'mouse', 'printer', 'keyboard', 'laptop', 'tablet'}\n"
          ]
        }
      ]
    },
    {
      "cell_type": "code",
      "source": [],
      "metadata": {
        "id": "t42_qD4v7kWz"
      },
      "execution_count": null,
      "outputs": []
    },
    {
      "cell_type": "markdown",
      "source": [
        "Lab 2:Student Enrollment system\n",
        "\n",
        "scenerio: you are developing a student enrollment system for university.The university offers in different,and some students are enrolled in multiple courses.\n",
        "\n",
        "Tasks:\n",
        "1.   Create a set course_A containing students 'Allice','Bob','Charlie'\n",
        "2.   create another set course_B containing students 'Charlie','David','Eva'\n",
        "3.   Find out which students are enrolled in both course_A and course_B\n",
        "4.   List all students who are enrolled in either course_A or course_B\n",
        "5.   Identify students who are enrolled in course_A but not in course_B\n",
        "6.   Determine the students who are enrolled in only one course\n",
        "\n",
        "\n",
        "\n",
        "\n",
        "\n",
        "\n"
      ],
      "metadata": {
        "id": "-KYPvZTz3r6q"
      }
    },
    {
      "cell_type": "code",
      "execution_count": 9,
      "metadata": {
        "colab": {
          "base_uri": "https://localhost:8080/"
        },
        "id": "0JpxNnVT9J_i",
        "outputId": "5d139803-d1e0-4bb9-b924-76a06d3800a3"
      },
      "outputs": [
        {
          "output_type": "stream",
          "name": "stdout",
          "text": [
            "````````````````````````````````````````````````````````````````````````````````````````````\n",
            "\n",
            "\t\t\tStudent Enrollment System\n",
            "\n",
            "````````````````````````````````````````````````````````````````````````````````````````````\n",
            "\n",
            "Students in Course A: {'Bob', 'Alice', 'Charlie'} \n",
            "\n",
            "Students in Course B: {'Eva', 'Charlie', 'David'} \n",
            "\n",
            "Enrolled in both Course A and B: {'Charlie'} \n",
            "\n",
            "Enrolled in either Course A or B: {'Eva', 'Bob', 'Alice', 'David', 'Charlie'} \n",
            "\n",
            "Only in Course A: {'Bob', 'Alice'} \n",
            "\n",
            "Enrolled in only one course: {'Eva', 'Bob', 'Alice', 'David'}\n"
          ]
        }
      ],
      "source": [
        "# Step 1: Define course enrollment sets\n",
        "course_A = {'Alice', 'Bob', 'Charlie'}\n",
        "course_B = {'Charlie', 'David', 'Eva'}\n",
        "\n",
        "# Step 2: Students in both courses (Intersection)\n",
        "both_courses = course_A.intersection(course_B)\n",
        "\n",
        "# Step 3: Students in either course (Union)\n",
        "either_course = course_A.union(course_B)\n",
        "\n",
        "# Step 4: Students in course A but not in course B (Difference)\n",
        "only_course_A = course_A.difference(course_B)\n",
        "\n",
        "# Step 5: Students enrolled in only one course (Symmetric Difference)\n",
        "only_one_course = course_A.symmetric_difference(course_B)\n",
        "\n",
        "# Final Output\n",
        "print(\"````````````````````````````````````````````````````````````````````````````````````````````\\n\")\n",
        "print(\"\\t\\t\\tStudent Enrollment System\\n\")\n",
        "print(\"````````````````````````````````````````````````````````````````````````````````````````````\\n\")\n",
        "print(\"Students in Course A:\", course_A,\"\\n\")\n",
        "print(\"Students in Course B:\", course_B,\"\\n\")\n",
        "print(\"Enrolled in both Course A and B:\", both_courses,\"\\n\")\n",
        "print(\"Enrolled in either Course A or B:\", either_course,\"\\n\")\n",
        "print(\"Only in Course A:\", only_course_A,\"\\n\")\n",
        "print(\"Enrolled in only one course:\", only_one_course)\n"
      ]
    },
    {
      "cell_type": "code",
      "source": [],
      "metadata": {
        "id": "FjT-yk0c82y-"
      },
      "execution_count": null,
      "outputs": []
    },
    {
      "cell_type": "code",
      "source": [],
      "metadata": {
        "id": "0sRx34Jo82vX"
      },
      "execution_count": null,
      "outputs": []
    },
    {
      "cell_type": "code",
      "source": [],
      "metadata": {
        "id": "kuUp6ClF82sH"
      },
      "execution_count": null,
      "outputs": []
    }
  ]
}