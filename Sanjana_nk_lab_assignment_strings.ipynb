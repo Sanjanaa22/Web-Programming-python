{
  "nbformat": 4,
  "nbformat_minor": 0,
  "metadata": {
    "colab": {
      "provenance": []
    },
    "kernelspec": {
      "name": "python3",
      "display_name": "Python 3"
    },
    "language_info": {
      "name": "python"
    }
  },
  "cells": [
    {
      "cell_type": "markdown",
      "source": [
        "# **Lab Assignment 07**"
      ],
      "metadata": {
        "id": "h67V4xLBOXD7"
      }
    },
    {
      "cell_type": "markdown",
      "source": [
        "# 1.Write a Python program to count the occurences of each word in a given sentence\n",
        "# string=\"To change the overall look of your document.To change the look available in the gallery\""
      ],
      "metadata": {
        "id": "0Qrb7W6mdOGJ"
      }
    },
    {
      "cell_type": "code",
      "source": [
        "#The given String is\n",
        "string = \"To change the overall look of your document. To change the look available in the gallery\"\n",
        "\n",
        "#Remove puntactuation and convert to lower case\n",
        "string = string.replace(\".\", \"\").lower()\n",
        "\n",
        "# Split the string into words\n",
        "words = string.split()\n",
        "\n",
        "# Count the occurrences of each word and display the result\n",
        "for word in set(words):  # using set to avoid count duplicates\n",
        "    print(f\"'{word}': {words.count(word)}\")"
      ],
      "metadata": {
        "colab": {
          "base_uri": "https://localhost:8080/"
        },
        "id": "KB_s2IGPNX3_",
        "outputId": "9d0e352a-6012-48d8-d15a-484cee8bb634"
      },
      "execution_count": 12,
      "outputs": [
        {
          "output_type": "stream",
          "name": "stdout",
          "text": [
            "'gallery': 1\n",
            "'overall': 1\n",
            "'the': 3\n",
            "'to': 2\n",
            "'change': 2\n",
            "'in': 1\n",
            "'look': 2\n",
            "'your': 1\n",
            "'available': 1\n",
            "'document': 1\n",
            "'of': 1\n"
          ]
        }
      ]
    },
    {
      "cell_type": "markdown",
      "source": [
        "# 2.Write a Python program to remove a newline in python\n",
        "# string =\"\\nBest\\nDeeptech\\nPython \\nTraining\\n\""
      ],
      "metadata": {
        "id": "Db27tO_jOHCj"
      }
    },
    {
      "cell_type": "code",
      "source": [
        "# The given string\n",
        "string = \"\\nBest\\nDeeptech\\nPython \\nTraining\\n\"\n",
        "\n",
        "# Split the string by newline and join it without newlines\n",
        "string_no_newline = \" \".join(string.split())\n",
        "\n",
        "print(\"String without newlines:\", string_no_newline)"
      ],
      "metadata": {
        "colab": {
          "base_uri": "https://localhost:8080/"
        },
        "id": "IHzcW0LNPuC_",
        "outputId": "de1f53c1-293c-4b6b-8438-742c46ee51d9"
      },
      "execution_count": 13,
      "outputs": [
        {
          "output_type": "stream",
          "name": "stdout",
          "text": [
            "String without newlines: Best Deeptech Python Training\n"
          ]
        }
      ]
    },
    {
      "cell_type": "markdown",
      "source": [
        "# 3.Write aPython Program To reverse words in a string\n",
        "# string= \"Deeptech Python Training\""
      ],
      "metadata": {
        "id": "pLZC5O39Not8"
      }
    },
    {
      "cell_type": "code",
      "source": [
        "# The given string\n",
        "string = \"Deeptech Python Training\"\n",
        "\n",
        "words = string.split()\n",
        "reversed_string = \"\"\n",
        "for word in words:\n",
        "    reversed_string = word + \" \" + reversed_string\n",
        "\n",
        "# Remove the extra space at the end\n",
        "reversed_string = reversed_string.strip()\n",
        "\n",
        "# Display the reversed string\n",
        "print(\"Reversed words:\", reversed_string)"
      ],
      "metadata": {
        "colab": {
          "base_uri": "https://localhost:8080/"
        },
        "id": "VXqwQEisTprJ",
        "outputId": "40f11933-905b-430a-cd6b-46b383cd45b9"
      },
      "execution_count": 14,
      "outputs": [
        {
          "output_type": "stream",
          "name": "stdout",
          "text": [
            "Reversed words: Training Python Deeptech\n"
          ]
        }
      ]
    },
    {
      "cell_type": "markdown",
      "source": [
        "# 4.Write a Python Program to count and display the vowels of a given text\n",
        "\n",
        "# string = \"Welcome to python Training\""
      ],
      "metadata": {
        "id": "RcLYA-uyUDHa"
      }
    },
    {
      "cell_type": "code",
      "source": [
        "import re\n",
        "\n",
        "# The Given string\n",
        "string = \"Welcome to python Training\"\n",
        "\n",
        "# Vowels to check for\n",
        "vowels = \"aeiou\"\n",
        "\n",
        "# Use regular expression to find all vowels (case insensitive)\n",
        "vowel_list = re.findall(r'[aeiou]', string, re.IGNORECASE)\n",
        "\n",
        "# Count the vowels\n",
        "vowel_count = len(vowel_list)\n",
        "\n",
        "# Display the count of vowels\n",
        "print(f\"Total vowels in the string: {vowel_count}\")\n"
      ],
      "metadata": {
        "colab": {
          "base_uri": "https://localhost:8080/"
        },
        "id": "l8kWUzH2UZ1S",
        "outputId": "d267aef7-dc70-407c-bee8-1549d7b1b8a6"
      },
      "execution_count": 15,
      "outputs": [
        {
          "output_type": "stream",
          "name": "stdout",
          "text": [
            "Total vowels in the string: 8\n"
          ]
        }
      ]
    }
  ]
}