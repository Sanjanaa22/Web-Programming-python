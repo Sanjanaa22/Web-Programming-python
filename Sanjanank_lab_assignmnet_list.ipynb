{
  "nbformat": 4,
  "nbformat_minor": 0,
  "metadata": {
    "colab": {
      "provenance": []
    },
    "kernelspec": {
      "name": "python3",
      "display_name": "Python 3"
    },
    "language_info": {
      "name": "python"
    }
  },
  "cells": [
    {
      "cell_type": "markdown",
      "source": [
        "# **Lab Assignment 10**"
      ],
      "metadata": {
        "id": "jHVLxLtCxi0Z"
      }
    },
    {
      "cell_type": "markdown",
      "source": [
        "# 1)Write a Python Program to sum all the items in a list"
      ],
      "metadata": {
        "id": "KMjDdsX6xvXP"
      }
    },
    {
      "cell_type": "code",
      "source": [
        "#create a sample list\n",
        "my_list = [65, 31, 56, 78, 23]\n",
        "\n",
        "sum = 0\n",
        "\n",
        "# through loop list f items are adding to sum variable\n",
        "for item in my_list:\n",
        "       sum += item\n",
        "\n",
        "# Print the result\n",
        "print(\"The sum of all the items in the list is:\", sum)"
      ],
      "metadata": {
        "colab": {
          "base_uri": "https://localhost:8080/"
        },
        "id": "oa9xJtGB3IQ1",
        "outputId": "03926599-8c6f-4cd6-dd0a-04d1b62d18dd"
      },
      "execution_count": 2,
      "outputs": [
        {
          "output_type": "stream",
          "name": "stdout",
          "text": [
            "The sum of all the items in the list is: 253\n"
          ]
        }
      ]
    },
    {
      "cell_type": "markdown",
      "source": [
        "# 2)Write a Python Program To get the largest and smallest number from a list without builtin function"
      ],
      "metadata": {
        "id": "Q0BX5yzcx9JA"
      }
    },
    {
      "cell_type": "code",
      "source": [
        "#list of numbers\n",
        "numbers = [10, 58, 4, 45, 19, -5]\n",
        "\n",
        "\n",
        "max_value = numbers[0]\n",
        "min_value = numbers[0]\n",
        "\n",
        "# Loop through the list to find the largest and smallest numbers\n",
        "for num in numbers:\n",
        "    if num > max_value:\n",
        "        max_value = num\n",
        "    if num < min_value:\n",
        "        min_value = num\n",
        "\n",
        "# Print the results\n",
        "print(\"The largest number is:\", max_value)\n",
        "print(\"The smallest number is:\", min_value)\n"
      ],
      "metadata": {
        "colab": {
          "base_uri": "https://localhost:8080/"
        },
        "id": "pja7durs3JOD",
        "outputId": "a60343f9-8fa1-424d-b948-34a4923bb3d9"
      },
      "execution_count": 4,
      "outputs": [
        {
          "output_type": "stream",
          "name": "stdout",
          "text": [
            "The largest number is: 58\n",
            "The smallest number is: -5\n"
          ]
        }
      ]
    },
    {
      "cell_type": "markdown",
      "source": [
        "# 3)Write a Python Program to find duplicate values from a list and display those."
      ],
      "metadata": {
        "id": "NqIkmR4gx88s"
      }
    },
    {
      "cell_type": "code",
      "source": [
        "#list of numbers\n",
        "list1 = [10, 20, 30, 10, 30, 50, 20, 60]\n",
        "\n",
        "# 2 different variables for duplicates and unique\n",
        "unique_elements = set()\n",
        "duplicates = set()\n",
        "\n",
        "# Loop through the list to find duplicates\n",
        "for num in list1:\n",
        "    if num in unique_elements:\n",
        "        duplicates.add(num)\n",
        "    else:\n",
        "        unique_elements.add(num)\n",
        "\n",
        "# Convert the set of duplicates to a list and print\n",
        "print(\"Duplicate values are:\", list(duplicates))\n"
      ],
      "metadata": {
        "colab": {
          "base_uri": "https://localhost:8080/"
        },
        "id": "wArzROXm3J6v",
        "outputId": "b805ccf1-dd7e-4a80-a309-3f00586d93cd"
      },
      "execution_count": 7,
      "outputs": [
        {
          "output_type": "stream",
          "name": "stdout",
          "text": [
            "Duplicate values are: [10, 20, 30]\n"
          ]
        }
      ]
    },
    {
      "cell_type": "markdown",
      "source": [
        "# 4)Write a Python Program to split a given list into two parts where the length of the first part of the list is given.\n",
        "\n",
        "# original list\n",
        "# [1,1,2,3,4,4,5,1]\n",
        "\n",
        "# length of first part of the list :03\n",
        "\n",
        "# splitted said list into 2 parts\n",
        "# ([1,1,2] [3,4,4,5,1])\n",
        "\n"
      ],
      "metadata": {
        "id": "QoKJRyqOx8vY"
      }
    },
    {
      "cell_type": "code",
      "source": [
        "#original list\n",
        "input_list = [1, 1, 2, 3, 4, 4, 5, 1]\n",
        "\n",
        "# Length of the first part\n",
        "split_index = 3\n",
        "\n",
        "# Split the list into two parts\n",
        "first_half = input_list[:split_index]\n",
        "second_half = input_list[split_index:]\n",
        "\n",
        "# Print the results\n",
        "print(\"Original list:\", input_list)\n",
        "print(\"Length of the first part of the list:\", split_index)\n",
        "print(\"Splitted list into two parts:\", (first_half, second_half))\n"
      ],
      "metadata": {
        "colab": {
          "base_uri": "https://localhost:8080/"
        },
        "id": "EE9cMLRT3LR9",
        "outputId": "857ba535-15e7-4acc-dab4-768a36462f72"
      },
      "execution_count": 8,
      "outputs": [
        {
          "output_type": "stream",
          "name": "stdout",
          "text": [
            "Original list: [1, 1, 2, 3, 4, 4, 5, 1]\n",
            "Length of the first part of the list: 3\n",
            "Splitted list into two parts: ([1, 1, 2], [3, 4, 4, 5, 1])\n"
          ]
        }
      ]
    },
    {
      "cell_type": "markdown",
      "source": [
        "# 5)Write a python program to traverse a given list in a reverse order ,and print the elements with the original index\n",
        "\n",
        "# original list:\n",
        "# ['red','green','white','black']\n",
        "\n",
        "#Traverse the list in reverse order:\n",
        "\n",
        "#black\n",
        "#white\n",
        "#green\n",
        "#red"
      ],
      "metadata": {
        "id": "Y6JBPsLm2Boq"
      }
    },
    {
      "cell_type": "code",
      "source": [
        "#given color list\n",
        "colors = ['red', 'green', 'white', 'black']\n",
        "\n",
        "# Traversing the list in reverse order using a  for loop\n",
        "for color in colors[::-1]:\n",
        "    print(color)"
      ],
      "metadata": {
        "colab": {
          "base_uri": "https://localhost:8080/"
        },
        "id": "Z90GtaG43Mc5",
        "outputId": "7e3370ae-3a6d-4365-8ac4-fe181d539b86"
      },
      "execution_count": 9,
      "outputs": [
        {
          "output_type": "stream",
          "name": "stdout",
          "text": [
            "black\n",
            "white\n",
            "green\n",
            "red\n"
          ]
        }
      ]
    },
    {
      "cell_type": "code",
      "execution_count": null,
      "metadata": {
        "id": "ZeKsGL7FxRMN"
      },
      "outputs": [],
      "source": []
    }
  ]
}