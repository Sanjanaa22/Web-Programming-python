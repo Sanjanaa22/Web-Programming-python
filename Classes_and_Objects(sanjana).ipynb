{
  "nbformat": 4,
  "nbformat_minor": 0,
  "metadata": {
    "colab": {
      "provenance": []
    },
    "kernelspec": {
      "name": "python3",
      "display_name": "Python 3"
    },
    "language_info": {
      "name": "python"
    }
  },
  "cells": [
    {
      "cell_type": "markdown",
      "source": [
        "# LAB ASSIGNMENT (Classes and Objects)"
      ],
      "metadata": {
        "id": "7AqhqEhoWLkj"
      }
    },
    {
      "cell_type": "markdown",
      "source": [
        "# 1)LAB 3 :Student Management System\n",
        "\n",
        "#Create a class student that stores details about a student\n",
        "\n",
        "a)instance atrribute:\n",
        "  \n",
        "\n",
        "*   Name :The student's name\n",
        "*   Age :The student's age\n",
        "*   Marks : A dictonary to store object names as keys and corresponding marks as values\n",
        "\n",
        "b)Methods:\n",
        "\n",
        "\n",
        "*   add_marks(self,subject,mark):Adds marks for a subject\n",
        "*   get_average_marks(self):Returns the average marks for the student\n",
        "*   display_Student_info(self): Displays the student's name ,age , and marks\n",
        "\n",
        "\n",
        "\n",
        "\n",
        "\n",
        "\n",
        "\n",
        "\n",
        "\n",
        "\n",
        "\n"
      ],
      "metadata": {
        "id": "I-U93lKcWmVv"
      }
    },
    {
      "cell_type": "code",
      "source": [
        "class Student:\n",
        "    def __init__(self, name, age):\n",
        "        self.name = name\n",
        "        self.age = age\n",
        "        self.marks = {}\n",
        "\n",
        "    def add_marks(self, subject, mark):\n",
        "        \"\"\"Adds or updates the mark for a given subject.\"\"\"\n",
        "        self.marks[subject] = mark\n",
        "\n",
        "    def get_average_marks(self):\n",
        "        \"\"\"Returns the average of all marks.\"\"\"\n",
        "        if not self.marks:\n",
        "            return 0\n",
        "        total = sum(self.marks.values())\n",
        "        return total / len(self.marks)\n",
        "\n",
        "    def display_student_info(self):\n",
        "        \"\"\"Displays the student's name, age, and all marks.\"\"\"\n",
        "        print(f\"Name: {self.name}\\n\")\n",
        "        print(f\"Age: {self.age}\\n\")\n",
        "        print(\"Marks:\")\n",
        "        for subject, mark in self.marks.items():\n",
        "            print(f\"  {subject}: {mark}\")\n",
        "        print(\"\\n\")\n",
        "        print(f\"Average Marks: {self.get_average_marks():.2f}\")\n"
      ],
      "metadata": {
        "id": "WBcCjpTFgAoz"
      },
      "execution_count": 6,
      "outputs": []
    },
    {
      "cell_type": "code",
      "source": [
        "student1 = Student(\"Sanjana\", 17)\n",
        "student1.add_marks(\"Math\", 75)\n",
        "student1.add_marks(\"Science\", 67)\n",
        "student1.add_marks(\"English\", 78)\n",
        "\n",
        "student1.display_student_info()"
      ],
      "metadata": {
        "colab": {
          "base_uri": "https://localhost:8080/"
        },
        "id": "Y0Q6SAsbg1wY",
        "outputId": "a5e19d8f-672a-4b10-e93f-fe4f0adf7985"
      },
      "execution_count": 7,
      "outputs": [
        {
          "output_type": "stream",
          "name": "stdout",
          "text": [
            "Name: Sanjana\n",
            "\n",
            "Age: 17\n",
            "\n",
            "Marks:\n",
            "  Math: 75\n",
            "  Science: 67\n",
            "  English: 78\n",
            "\n",
            "\n",
            "Average Marks: 73.33\n"
          ]
        }
      ]
    },
    {
      "cell_type": "markdown",
      "source": [
        "# 2)LAB 4 :Employee Management\n",
        "\n",
        "#Create a class Employee that manages employee setails\n",
        "\n",
        "a)instance atrribute:\n",
        "  \n",
        "\n",
        "*   Name :The employee's name\n",
        "*   Salary :The employee's salary\n",
        "*   position : The employee's position\n",
        "\n",
        "b)Methods:\n",
        "\n",
        "* promote(self,new_position):Updates the employee's position\n",
        "* update_salary(self,new_salary):Updates the employee's salary\n",
        "* display_info(self):Displays the employee's name,position and salary\n",
        "\n",
        "\n",
        "\n",
        "\n",
        "\n",
        "\n"
      ],
      "metadata": {
        "id": "QSLTNkQUe8_5"
      }
    },
    {
      "cell_type": "code",
      "execution_count": 8,
      "metadata": {
        "id": "5aB9HwsZViJ3"
      },
      "outputs": [],
      "source": [
        "class Employee:\n",
        "    def __init__(self, name, salary, position):\n",
        "        self.name = name\n",
        "        self.salary = salary\n",
        "        self.position = position\n",
        "\n",
        "    def promote(self, new_position):\n",
        "        \"\"\"Updates the employee's position.\"\"\"\n",
        "        self.position = new_position\n",
        "\n",
        "    def update_salary(self, new_salary):\n",
        "        \"\"\"Updates the employee's salary.\"\"\"\n",
        "        self.salary = new_salary\n",
        "\n",
        "    def display_info(self):\n",
        "        \"\"\"Displays the employee's information.\"\"\"\n",
        "        print(f\"Name: {self.name}\")\n",
        "        print(f\"Position: {self.position}\")\n",
        "        print(f\"Salary: ${self.salary:.2f}\")\n"
      ]
    },
    {
      "cell_type": "code",
      "source": [
        "\n",
        "emp1 = Employee(\"Sagar\", 50000, \"Analyst\")\n",
        "emp1.display_info()\n",
        "print(\"-------------------------\")\n",
        "print(\"After Pramotion\")\n",
        "print(\"-------------------------\")\n",
        "emp1.promote(\"Senior Analyst\")\n",
        "emp1.update_salary(85000)\n",
        "emp1.display_info()"
      ],
      "metadata": {
        "colab": {
          "base_uri": "https://localhost:8080/"
        },
        "id": "HvPkJMp2h6zF",
        "outputId": "b708b29b-426f-4b3c-a973-bf86e504ba3a"
      },
      "execution_count": 12,
      "outputs": [
        {
          "output_type": "stream",
          "name": "stdout",
          "text": [
            "Name: Sagar\n",
            "Position: Analyst\n",
            "Salary: $50000.00\n",
            "-------------------------\n",
            "After Pramotion\n",
            "-------------------------\n",
            "Name: Sagar\n",
            "Position: Senior Analyst\n",
            "Salary: $85000.00\n"
          ]
        }
      ]
    },
    {
      "cell_type": "code",
      "source": [],
      "metadata": {
        "id": "-CFcN56eh6vm"
      },
      "execution_count": null,
      "outputs": []
    },
    {
      "cell_type": "code",
      "source": [],
      "metadata": {
        "id": "ylsoCVXNh6s6"
      },
      "execution_count": null,
      "outputs": []
    }
  ]
}