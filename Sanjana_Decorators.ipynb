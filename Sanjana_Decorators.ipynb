{
  "nbformat": 4,
  "nbformat_minor": 0,
  "metadata": {
    "colab": {
      "provenance": []
    },
    "kernelspec": {
      "name": "python3",
      "display_name": "Python 3"
    },
    "language_info": {
      "name": "python"
    }
  },
  "cells": [
    {
      "cell_type": "markdown",
      "source": [
        "# **DECORATOR LAB ASSIGNMENT**\n"
      ],
      "metadata": {
        "id": "OyfQ2pCjEdJT"
      }
    },
    {
      "cell_type": "markdown",
      "source": [
        "# 1)Write a decorator that ensures that all input arguments to a function are non negative integers\n",
        "\n",
        "# output:\n",
        "\n",
        "# print(calculate_square_root(9))#valid\n",
        "# print(calculate_square_root(-9))#invalid"
      ],
      "metadata": {
        "id": "IFWwapOlEq63"
      }
    },
    {
      "cell_type": "code",
      "execution_count": 1,
      "metadata": {
        "colab": {
          "base_uri": "https://localhost:8080/"
        },
        "id": "izOr-mhNEb7g",
        "outputId": "2d500ea4-1019-48f8-d25e-c922e07cf8ae"
      },
      "outputs": [
        {
          "output_type": "stream",
          "name": "stdout",
          "text": [
            "3.0\n",
            "Invalid input: All arguments must be non-negative integers.\n"
          ]
        }
      ],
      "source": [
        "def non_negative_integers_only(func):\n",
        "    def wrapper(*args, **kwargs):\n",
        "        for arg in list(args) + list(kwargs.values()):\n",
        "            if not isinstance(arg, int) or arg < 0:\n",
        "                return \"Invalid input: All arguments must be non-negative integers.\"\n",
        "        return func(*args, **kwargs)\n",
        "    return wrapper\n",
        "\n",
        "@non_negative_integers_only\n",
        "def calculate_square_root(n):\n",
        "    return n ** 0.5\n",
        "\n",
        "\n",
        "print(calculate_square_root(9))    # Valid input\n",
        "print(calculate_square_root(-9))   # Invalid input\n"
      ]
    },
    {
      "cell_type": "markdown",
      "source": [
        "# 2)Write a decorator that prints out the function's name ,arguments and return value every time is called. This can help debug and trace the extecution of the function.\n",
        "\n",
        "# output:\n",
        "\n",
        "# calling multiply with arguments:(4,5) and keyboard arguments: ()\n",
        "# multiply returned : 20"
      ],
      "metadata": {
        "id": "GgaNYLs6MYrS"
      }
    },
    {
      "cell_type": "code",
      "source": [
        "def debug_decorator(func):\n",
        "    def wrapper(*args, **kwargs):\n",
        "        print(f\"Calling {func.__name__} with arguments: {args} and keyword arguments: {kwargs}\")\n",
        "        result = func(*args, **kwargs)\n",
        "        print(f\"{func.__name__} returned: {result}\")\n",
        "        return result\n",
        "    return wrapper\n"
      ],
      "metadata": {
        "id": "DxLqQgeNIbyY"
      },
      "execution_count": 2,
      "outputs": []
    },
    {
      "cell_type": "code",
      "source": [
        "@debug_decorator\n",
        "def multiply(a, b):\n",
        "    return a * b\n",
        "\n",
        "# Test\n",
        "multiply(4, 5)\n"
      ],
      "metadata": {
        "colab": {
          "base_uri": "https://localhost:8080/"
        },
        "id": "SjjIyx_4IbsT",
        "outputId": "4d71cabe-3bb4-43e7-cf4a-709313c6c1ec"
      },
      "execution_count": 3,
      "outputs": [
        {
          "output_type": "stream",
          "name": "stdout",
          "text": [
            "Calling multiply with arguments: (4, 5) and keyword arguments: {}\n",
            "multiply returned: 20\n"
          ]
        },
        {
          "output_type": "execute_result",
          "data": {
            "text/plain": [
              "20"
            ]
          },
          "metadata": {},
          "execution_count": 3
        }
      ]
    },
    {
      "cell_type": "markdown",
      "source": [
        "# 3)Write a decorator that repeats the execution of a function a specified number of times\n",
        "\n",
        "# output:\n",
        "\n",
        "# hello!\n",
        "# hello!\n",
        "# hello!"
      ],
      "metadata": {
        "id": "KCFL7iCoO5Wh"
      }
    },
    {
      "cell_type": "code",
      "source": [
        "def repeat(times):\n",
        "    def decorator(func):\n",
        "        def wrapper(*args, **kwargs):\n",
        "            for _ in range(times):\n",
        "                func(*args, **kwargs)\n",
        "        return wrapper\n",
        "    return decorator\n"
      ],
      "metadata": {
        "id": "7eNm5x2rO5DQ"
      },
      "execution_count": 4,
      "outputs": []
    },
    {
      "cell_type": "code",
      "source": [
        "@repeat(4)\n",
        "def say_words():\n",
        "    print(\"Hey Hii!\")\n",
        "\n",
        "# Test\n",
        "say_words()\n"
      ],
      "metadata": {
        "colab": {
          "base_uri": "https://localhost:8080/"
        },
        "id": "WSarCbNYIbo0",
        "outputId": "68c08e77-b5fc-421d-9990-ad5b5efbaa02"
      },
      "execution_count": 5,
      "outputs": [
        {
          "output_type": "stream",
          "name": "stdout",
          "text": [
            "Hey Hii!\n",
            "Hey Hii!\n",
            "Hey Hii!\n",
            "Hey Hii!\n"
          ]
        }
      ]
    },
    {
      "cell_type": "markdown",
      "source": [
        "# 4)Write a decorator that counts the number of times a function that has been called\n",
        "\n",
        "# output:\n",
        "\n",
        "# greet has been called 1 times\n",
        "# Hello,Alice\n",
        "# greet has been called 2 times\n",
        "# Hello Bob\n",
        "# greet has been called 3 times\n",
        "# Hello Charlie"
      ],
      "metadata": {
        "id": "TnIjAc1QP7Rs"
      }
    },
    {
      "cell_type": "code",
      "source": [
        "def call_counter(func):\n",
        "    def wrapper(*args, **kwargs):\n",
        "        wrapper.call_count += 1\n",
        "        print(f\"{func.__name__} has been called {wrapper.call_count} times\")\n",
        "        return func(*args, **kwargs)\n",
        "    wrapper.call_count = 0\n",
        "    return wrapper\n"
      ],
      "metadata": {
        "id": "RjGX0rrwPpvk"
      },
      "execution_count": 6,
      "outputs": []
    },
    {
      "cell_type": "code",
      "source": [
        "@call_counter\n",
        "def greet(name):\n",
        "    print(f\"Hello {name}\")\n",
        "\n",
        "# Test\n",
        "greet(\"Alice\")\n",
        "greet(\"Bob\")\n",
        "greet(\"Charlie\")\n"
      ],
      "metadata": {
        "colab": {
          "base_uri": "https://localhost:8080/"
        },
        "id": "aw7OdWDNPpsD",
        "outputId": "85a132cf-aed8-4d37-cf3b-be796abca6b7"
      },
      "execution_count": 7,
      "outputs": [
        {
          "output_type": "stream",
          "name": "stdout",
          "text": [
            "greet has been called 1 times\n",
            "Hello Alice\n",
            "greet has been called 2 times\n",
            "Hello Bob\n",
            "greet has been called 3 times\n",
            "Hello Charlie\n"
          ]
        }
      ]
    },
    {
      "cell_type": "code",
      "source": [],
      "metadata": {
        "id": "nB87wCG4PppJ"
      },
      "execution_count": null,
      "outputs": []
    }
  ]
}