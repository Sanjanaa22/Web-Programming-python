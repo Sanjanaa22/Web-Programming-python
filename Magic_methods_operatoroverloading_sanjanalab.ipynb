{
  "nbformat": 4,
  "nbformat_minor": 0,
  "metadata": {
    "colab": {
      "provenance": []
    },
    "kernelspec": {
      "name": "python3",
      "display_name": "Python 3"
    },
    "language_info": {
      "name": "python"
    }
  },
  "cells": [
    {
      "cell_type": "markdown",
      "source": [
        "# **MAGIC METHODS OPERATOR OVERLOADIN LAB ASSIGNMENT**"
      ],
      "metadata": {
        "id": "H6tSR2Uqz4Uy"
      }
    },
    {
      "cell_type": "markdown",
      "source": [
        "#Custom string class:\n",
        "\n",
        "#Implement a CustomString class that overloads the + operator for concatenation and the * operator to repeat the string. Include a method to return the string in uppercase"
      ],
      "metadata": {
        "id": "MIVkFNauuMl2"
      }
    },
    {
      "cell_type": "code",
      "execution_count": 3,
      "metadata": {
        "colab": {
          "base_uri": "https://localhost:8080/"
        },
        "id": "ElL_i-sbz3Os",
        "outputId": "ec3d5fcd-3515-4acc-d566-6398ff77a39e"
      },
      "outputs": [
        {
          "output_type": "stream",
          "name": "stdout",
          "text": [
            "=== Custom String Operations ===\n",
            "Enter first string: web\n",
            "\n",
            "Choose an operation:\n",
            "1. Concatenate with another string\n",
            "2. Repeat the string\n",
            "3. Convert to uppercase\n",
            "4. Exit\n",
            "Enter your choice (1-4): 2\n",
            "Enter number of repetitions: 3\n",
            "Repeated Result: webwebweb\n",
            "\n",
            "Choose an operation:\n",
            "1. Concatenate with another string\n",
            "2. Repeat the string\n",
            "3. Convert to uppercase\n",
            "4. Exit\n",
            "Enter your choice (1-4): 1\n",
            "Enter second string to concatenate: programming\n",
            "Concatenated Result: webprogramming\n",
            "\n",
            "Choose an operation:\n",
            "1. Concatenate with another string\n",
            "2. Repeat the string\n",
            "3. Convert to uppercase\n",
            "4. Exit\n",
            "Enter your choice (1-4): 3\n",
            "Uppercase Result: WEB\n",
            "\n",
            "Choose an operation:\n",
            "1. Concatenate with another string\n",
            "2. Repeat the string\n",
            "3. Convert to uppercase\n",
            "4. Exit\n",
            "Enter your choice (1-4): 4\n",
            "Exiting...\n"
          ]
        }
      ],
      "source": [
        "class CustomString:\n",
        "    def __init__(self, value):\n",
        "        if not isinstance(value, str):\n",
        "            raise ValueError(\"CustomString can only be initialized with a string.\")\n",
        "        self.value = value\n",
        "\n",
        "    def __add__(self, other):\n",
        "        if isinstance(other, CustomString):\n",
        "            return CustomString(self.value + other.value)\n",
        "        elif isinstance(other, str):\n",
        "            return CustomString(self.value + other)\n",
        "        else:\n",
        "            raise TypeError(\"Can only concatenate with a string or CustomString.\")\n",
        "\n",
        "    def __mul__(self, times):\n",
        "        if isinstance(times, int):\n",
        "            return CustomString(self.value * times)\n",
        "        else:\n",
        "            raise TypeError(\"Can only multiply by an integer.\")\n",
        "\n",
        "    def to_uppercase(self):\n",
        "        return self.value.upper()\n",
        "\n",
        "    def __str__(self):\n",
        "        return self.value\n",
        "\n",
        "    def __repr__(self):\n",
        "        return f'CustomString(\"{self.value}\")'\n",
        "\n",
        "# Menu for user interaction\n",
        "def main():\n",
        "    print(\"=== Custom String Operations ===\")\n",
        "    value1 = input(\"Enter first string: \")\n",
        "    s1 = CustomString(value1)\n",
        "\n",
        "    while True:\n",
        "        print(\"\\nChoose an operation:\")\n",
        "        print(\"1. Concatenate with another string\")\n",
        "        print(\"2. Repeat the string\")\n",
        "        print(\"3. Convert to uppercase\")\n",
        "        print(\"4. Exit\")\n",
        "\n",
        "        choice = input(\"Enter your choice (1-4): \").strip()\n",
        "\n",
        "        if choice == \"1\":\n",
        "            value2 = input(\"Enter second string to concatenate: \")\n",
        "            s2 = CustomString(value2)\n",
        "            result = s1 + s2\n",
        "            print(\"Concatenated Result:\", result)\n",
        "\n",
        "        elif choice == \"2\":\n",
        "            try:\n",
        "                times = int(input(\"Enter number of repetitions: \"))\n",
        "                result = s1 * times\n",
        "                print(\"Repeated Result:\", result)\n",
        "            except ValueError:\n",
        "                print(\"Invalid input. Please enter an integer.\")\n",
        "\n",
        "        elif choice == \"3\":\n",
        "            print(\"Uppercase Result:\", s1.to_uppercase())\n",
        "\n",
        "        elif choice == \"4\":\n",
        "            print(\"Exiting...\")\n",
        "            break\n",
        "\n",
        "        else:\n",
        "            print(\"Invalid choice. Please try again.\")\n",
        "\n",
        "# Run the program\n",
        "if __name__ == \"__main__\":\n",
        "    main()\n"
      ]
    },
    {
      "cell_type": "markdown",
      "source": [],
      "metadata": {
        "id": "jIQVsq5s1S5l"
      }
    },
    {
      "cell_type": "markdown",
      "source": [
        "# Comparing Custom Objects By Attributes:\n",
        "\n",
        "# Extend the rectangle class to allow comparison of rectangles based on specific attribute , such as width or height using overloaded comparison operators.\n",
        "\n",
        "#output:\n",
        "\n",
        "#Rectangle1:Rectangle(width=4,height=5,area=20)\n",
        "#Rectangle2:Rectangle(width=3,height=6,area=18)\n",
        "#Rectangle3:Rectangle(width=4,height=5,area=20)\n",
        "\n",
        "#rect1==rect2 :False\n",
        "#rect1==rect3 :True\n",
        "#rect1 > rect2 :True\n",
        "#rect1 < rect2 :False\n",
        "#rect1 >= rect3 :True\n",
        "#rect2 <= rect1 :False\n",
        "\n",
        "\n"
      ],
      "metadata": {
        "id": "WX2OJQWfuNSa"
      }
    },
    {
      "cell_type": "code",
      "source": [
        "class Rectangle:\n",
        "    def __init__(self, width, height):\n",
        "        self.width = width\n",
        "        self.height = height\n",
        "        self.area = self.width * self.height\n",
        "\n",
        "    def __eq__(self, other):\n",
        "        return (self.width == other.width and\n",
        "                self.height == other.height and\n",
        "                self.area == other.area)\n",
        "\n",
        "    def __lt__(self, other):\n",
        "        return self.area < other.area\n",
        "\n",
        "    def __gt__(self, other):\n",
        "        return self.area > other.area\n",
        "\n",
        "    def __le__(self, other):\n",
        "        return self.area <= other.area\n",
        "\n",
        "    def __ge__(self, other):\n",
        "        return self.area >= other.area\n",
        "\n",
        "    def __str__(self):\n",
        "        return f\"Rectangle(width={self.width}, height={self.height}, area={self.area})\"\n",
        "\n",
        "def get_rectangle_input(index):\n",
        "    print(f\"\\nEnter dimensions for Rectangle {index}:\")\n",
        "    while True:\n",
        "        try:\n",
        "            width = int(input(\"Width: \"))\n",
        "            height = int(input(\"Height: \"))\n",
        "            return Rectangle(width, height)\n",
        "        except ValueError:\n",
        "            print(\"Invalid input. Please enter integers for width and height.\")\n",
        "\n",
        "# Main program\n",
        "if __name__ == \"__main__\":\n",
        "    rect1 = get_rectangle_input(1)\n",
        "    rect2 = get_rectangle_input(2)\n",
        "    rect3 = get_rectangle_input(3)\n",
        "\n",
        "    print(\"\\n--- Rectangle Info ---\")\n",
        "    print(\"Rectangle1:\", rect1)\n",
        "    print(\"Rectangle2:\", rect2)\n",
        "    print(\"Rectangle3:\", rect3)\n",
        "\n",
        "    print(\"\\n--- Comparisons ---\")\n",
        "    print(\"rect1 == rect2:\", rect1 == rect2)\n",
        "    print(\"rect1 == rect3:\", rect1 == rect3)\n",
        "    print(\"rect1 > rect2:\", rect1 > rect2)\n",
        "    print(\"rect1 < rect2:\", rect1 < rect2)\n",
        "    print(\"rect1 >= rect3:\", rect1 >= rect3)\n",
        "    print(\"rect2 <= rect1:\", rect2 <= rect1)\n"
      ],
      "metadata": {
        "colab": {
          "base_uri": "https://localhost:8080/"
        },
        "id": "KjmsNw1M1SYy",
        "outputId": "e4557ece-c2c6-47e6-eb6d-74e82069c6bb"
      },
      "execution_count": 4,
      "outputs": [
        {
          "output_type": "stream",
          "name": "stdout",
          "text": [
            "\n",
            "Enter dimensions for Rectangle 1:\n",
            "Width: 4\n",
            "Height: 5\n",
            "\n",
            "Enter dimensions for Rectangle 2:\n",
            "Width: 5\n",
            "Height: 8\n",
            "\n",
            "Enter dimensions for Rectangle 3:\n",
            "Width: 8\n",
            "Height: 9\n",
            "\n",
            "--- Rectangle Info ---\n",
            "Rectangle1: Rectangle(width=4, height=5, area=20)\n",
            "Rectangle2: Rectangle(width=5, height=8, area=40)\n",
            "Rectangle3: Rectangle(width=8, height=9, area=72)\n",
            "\n",
            "--- Comparisons ---\n",
            "rect1 == rect2: False\n",
            "rect1 == rect3: False\n",
            "rect1 > rect2: False\n",
            "rect1 < rect2: True\n",
            "rect1 >= rect3: False\n",
            "rect2 <= rect1: False\n"
          ]
        }
      ]
    }
  ]
}