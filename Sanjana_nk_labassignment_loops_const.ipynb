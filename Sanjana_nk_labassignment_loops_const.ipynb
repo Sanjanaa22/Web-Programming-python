{
  "nbformat": 4,
  "nbformat_minor": 0,
  "metadata": {
    "colab": {
      "provenance": []
    },
    "kernelspec": {
      "name": "python3",
      "display_name": "Python 3"
    },
    "language_info": {
      "name": "python"
    }
  },
  "cells": [
    {
      "cell_type": "markdown",
      "source": [
        "# **Lab Assignment 06**"
      ],
      "metadata": {
        "id": "Ebxb4K8Z_jnz"
      }
    },
    {
      "cell_type": "markdown",
      "source": [
        "# 1).Print the first 10 natural number using for loop\n",
        "\n"
      ],
      "metadata": {
        "id": "CsgdkN-v_PSK"
      }
    },
    {
      "cell_type": "code",
      "execution_count": 1,
      "metadata": {
        "colab": {
          "base_uri": "https://localhost:8080/"
        },
        "id": "3SBG-m_l-9mB",
        "outputId": "c68fd98c-c71b-40c7-a527-7662d78756a9"
      },
      "outputs": [
        {
          "output_type": "stream",
          "name": "stdout",
          "text": [
            "1\n",
            "2\n",
            "3\n",
            "4\n",
            "5\n",
            "6\n",
            "7\n",
            "8\n",
            "9\n",
            "10\n"
          ]
        }
      ],
      "source": [
        "#printing first natural numbers is from 1 to 10\n",
        "for i in range(1, 11):\n",
        "    print(i)"
      ]
    },
    {
      "cell_type": "markdown",
      "source": [
        "# 2)Python Program to check if the given string is palindrome"
      ],
      "metadata": {
        "id": "3C9iLD9c-_Bh"
      }
    },
    {
      "cell_type": "code",
      "source": [
        "# Given string\n",
        "string = input(\"Enter a String\\t\")\n",
        "\n",
        "# Remove spaces and convert to lowercase for case-insensitive comparison\n",
        "string = string.replace(\" \", \"\").lower()\n",
        "\n",
        "# Check if the string is a palindrome using a loop\n",
        "is_palindrome = True\n",
        "for i in range(len(string) // 2):\n",
        "    if string[i] != string[-(i + 1)]:\n",
        "        is_palindrome = False\n",
        "        break\n",
        "\n",
        "if is_palindrome:\n",
        "    print(\"The given string is a palindrome.\")\n",
        "else:\n",
        "    print(\"The given string is not a palindrome.\")"
      ],
      "metadata": {
        "colab": {
          "base_uri": "https://localhost:8080/"
        },
        "id": "j8K4-TStAlcK",
        "outputId": "3d97476e-3489-4e7f-c384-9d00a1334b69"
      },
      "execution_count": 3,
      "outputs": [
        {
          "output_type": "stream",
          "name": "stdout",
          "text": [
            "Enter a String\tkriti\n",
            "The given string is not a palindrome.\n"
          ]
        }
      ]
    },
    {
      "cell_type": "markdown",
      "source": [
        "# 3).Python Program to check if a given number is an Armstrong Number\n"
      ],
      "metadata": {
        "id": "C6_cuYLeAmbs"
      }
    },
    {
      "cell_type": "code",
      "source": [
        "# get user input number\n",
        "number = int(input(\"Enter a number: \"))\n",
        "\n",
        "# Convert the number to a string to get the digits\n",
        "num_str = str(number)\n",
        "\n",
        "# Calculate the sum of digits raised to the power of the number of digits using list comprehension\n",
        "sum_of_powers = sum([int(digit) ** len(num_str) for digit in num_str])\n",
        "\n",
        "# Check if the sum of powers is equal to the original number\n",
        "if sum_of_powers == number:\n",
        "    print(f\"{number} is an Armstrong number.\")\n",
        "else:\n",
        "    print(f\"{number} is not an Armstrong number.\")\n"
      ],
      "metadata": {
        "colab": {
          "base_uri": "https://localhost:8080/"
        },
        "id": "QbsXRKNuBjf_",
        "outputId": "1840824d-10ba-475d-98dc-66635cd91e9d"
      },
      "execution_count": 1,
      "outputs": [
        {
          "output_type": "stream",
          "name": "stdout",
          "text": [
            "Enter a number: 567\n",
            "567 is not an Armstrong number.\n"
          ]
        }
      ]
    },
    {
      "cell_type": "markdown",
      "source": [
        "# 4.Python Program to get Fibonacci series between 0 to 50\n"
      ],
      "metadata": {
        "id": "MNfnI9v8Bn6A"
      }
    },
    {
      "cell_type": "code",
      "source": [
        "# Initialize the first two numbers of the Fibonacci series as\n",
        "a, b = 0, 1\n",
        "\n",
        "# Print Fibonacci numbers from 0 to 50\n",
        "print(\"Fibonacci series between 0 and 50:\")\n",
        "\n",
        "while a <= 50:\n",
        "    print(a, end=\" \")\n",
        "    a, b = b, a + b  # Update values of a and b"
      ],
      "metadata": {
        "colab": {
          "base_uri": "https://localhost:8080/"
        },
        "id": "6kKZ9IsbB3O2",
        "outputId": "a5efdb88-5e99-4164-ac03-ee800e936b64"
      },
      "execution_count": 2,
      "outputs": [
        {
          "output_type": "stream",
          "name": "stdout",
          "text": [
            "Fibonacci series between 0 and 50:\n",
            "0 1 1 2 3 5 8 13 21 34 "
          ]
        }
      ]
    },
    {
      "cell_type": "markdown",
      "source": [
        "# 5.Python Program to check the validity of password input by users"
      ],
      "metadata": {
        "id": "weZI_7yAB4Sx"
      }
    },
    {
      "cell_type": "code",
      "source": [
        "#re-is for regular expression\n",
        "\n",
        "import re\n",
        "\n",
        "\n",
        "# Function to check password validity\n",
        "def check_password_validity(password):\n",
        "    # Check if password meets the criteria\n",
        "    if len(password) < 8:\n",
        "        return \"Password must be at least 8 characters long.\"\n",
        "    elif not re.search(r\"[A-Z]\", password):  # Check for uppercase letter\n",
        "        return \"Password must contain at least one uppercase letter.\"\n",
        "    elif not re.search(r\"[a-z]\", password):  # Check for lowercase letter\n",
        "        return \"Password must contain at least one lowercase letter.\"\n",
        "    elif not re.search(r\"\\d\", password):  # Check for digit\n",
        "        return \"Password must contain at least one digit.\"\n",
        "    elif not re.search(r\"[@#$%^&+=!]\", password):  # Check for special character\n",
        "        return \"Password must contain at least one special character (@, #, $, %, ^, &, +, =, !).\"\n",
        "    else:\n",
        "        return \"Password is valid.\"\n",
        "\n",
        "# Take user input for the password\n",
        "password = input(\"Enter your password: \")\n",
        "\n",
        "# Check the validity of the password\n",
        "result = check_password_validity(password)\n",
        "\n",
        "# Display the result\n",
        "print(result)\n",
        "\n"
      ],
      "metadata": {
        "colab": {
          "base_uri": "https://localhost:8080/"
        },
        "id": "OMPCY3eCB4oo",
        "outputId": "fc262aa2-269d-42aa-a722-43289a40ca44"
      },
      "execution_count": 4,
      "outputs": [
        {
          "output_type": "stream",
          "name": "stdout",
          "text": [
            "Enter your password: Swidu@890\n",
            "Password is valid.\n"
          ]
        }
      ]
    },
    {
      "cell_type": "code",
      "source": [],
      "metadata": {
        "id": "XA2GNRyJB5eh"
      },
      "execution_count": null,
      "outputs": []
    }
  ]
}