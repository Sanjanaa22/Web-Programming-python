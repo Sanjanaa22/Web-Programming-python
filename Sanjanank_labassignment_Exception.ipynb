{
  "nbformat": 4,
  "nbformat_minor": 0,
  "metadata": {
    "colab": {
      "provenance": []
    },
    "kernelspec": {
      "name": "python3",
      "display_name": "Python 3"
    },
    "language_info": {
      "name": "python"
    }
  },
  "cells": [
    {
      "cell_type": "markdown",
      "source": [
        "# **LAB ASSIGNMENT - 14**"
      ],
      "metadata": {
        "id": "BMV8KPoPoLJT"
      }
    },
    {
      "cell_type": "markdown",
      "source": [
        "#1)Write a Python Program to handle a zeroDivisionError Exception when dividing a number by zero"
      ],
      "metadata": {
        "id": "VDko8XpKocfA"
      }
    },
    {
      "cell_type": "code",
      "source": [
        "# Function to divide two numbers\n",
        "def divide_numbers(num1, num2):\n",
        "    try:\n",
        "        # Trying to divide the numbers\n",
        "        result = num1 / num2\n",
        "    except ZeroDivisionError:\n",
        "        # Handling the ZeroDivisionError\n",
        "        return \"Error: Cannot divide by zero.\"\n",
        "    else:\n",
        "        # Returning the result if no exception occurs\n",
        "        return f\"Result: {result}\"\n",
        "\n",
        "# Example usage\n",
        "num1 = int(input(\"Enter num1\\t\"))\n",
        "num2 = int(input(\"Enter num2\\t\"))  # You can change this to any other number to test\n",
        "print(divide_numbers(num1, num2))\n"
      ],
      "metadata": {
        "colab": {
          "base_uri": "https://localhost:8080/"
        },
        "id": "3L3UNHLooxAt",
        "outputId": "f61ba06b-2bd2-4914-b1bf-a97e3ac914c4"
      },
      "execution_count": 5,
      "outputs": [
        {
          "output_type": "stream",
          "name": "stdout",
          "text": [
            "Enter num1\t9\n",
            "Enter num2\t0\n",
            "Error: Cannot divide by zero.\n"
          ]
        }
      ]
    },
    {
      "cell_type": "markdown",
      "source": [
        "#2)Write a Python Program that promots the user to input an integer and raises a ValueError Exception if the input is not a valid integer"
      ],
      "metadata": {
        "id": "A8yDQSpgoyi8"
      }
    },
    {
      "cell_type": "code",
      "source": [
        "# Function to get a valid integer input from the user\n",
        "def get_integer_input():\n",
        "    try:\n",
        "        # Prompting the user for input\n",
        "        user_input = input(\"Please enter an integer: \")\n",
        "\n",
        "        # Trying to convert the input to an integer\n",
        "        num = int(user_input)\n",
        "\n",
        "        # Returning the integer if the conversion is successful\n",
        "        return num\n",
        "    except ValueError:\n",
        "        # Handling the ValueError exception if input is not a valid integer\n",
        "        return \"Error: Input is not a valid integer.\"\n",
        "\n",
        "# Example usage\n",
        "result = get_integer_input()\n",
        "print(result)\n"
      ],
      "metadata": {
        "colab": {
          "base_uri": "https://localhost:8080/"
        },
        "id": "XM7QJBKuow9T",
        "outputId": "3e36143b-584f-457f-da8f-f976bec550b3"
      },
      "execution_count": 7,
      "outputs": [
        {
          "output_type": "stream",
          "name": "stdout",
          "text": [
            "Please enter an integer: $i9\n",
            "Error: Input is not a valid integer.\n"
          ]
        }
      ]
    },
    {
      "cell_type": "code",
      "execution_count": null,
      "metadata": {
        "id": "JBIIyps0oKRp"
      },
      "outputs": [],
      "source": []
    },
    {
      "cell_type": "markdown",
      "source": [
        "#3)Write a Python program that opens a file and handles a FileNotFoundError exception if the file does not exist."
      ],
      "metadata": {
        "id": "JgeqdO28pAwP"
      }
    },
    {
      "cell_type": "code",
      "source": [
        "# Function to open and read a file\n",
        "def open_file(filename):\n",
        "    try:\n",
        "        # Trying to open the file in read mode\n",
        "        with open(filename, 'r') as file:\n",
        "            content = file.read()\n",
        "            print(content)\n",
        "    except FileNotFoundError:\n",
        "        # Handling the FileNotFoundError if the file does not exist\n",
        "        return f\"Error: The file '{filename}' was not found.\"\n",
        "\n",
        "# Example usage\n",
        "filename = \"requirements.txt\"  # Change this to a non-existent file to test the error\n",
        "result = open_file(filename)\n",
        "print(result)\n"
      ],
      "metadata": {
        "colab": {
          "base_uri": "https://localhost:8080/"
        },
        "id": "XXXZvMZ4qV-Q",
        "outputId": "077b51c3-e7ca-4465-d29d-a3d418cc370e"
      },
      "execution_count": 10,
      "outputs": [
        {
          "output_type": "stream",
          "name": "stdout",
          "text": [
            "Error: The file 'requirements.txt' was not found.\n"
          ]
        }
      ]
    },
    {
      "cell_type": "markdown",
      "source": [
        "#4)Write a python program that promots the user to input two numbers and raises a TypeError Exception if the inputs are not numerical"
      ],
      "metadata": {
        "id": "8JZIMMBYpQbo"
      }
    },
    {
      "cell_type": "code",
      "source": [
        "# Function to get two numerical inputs from the user and check if they are valid floats\n",
        "def get_two_numbers():\n",
        "    try:\n",
        "        # Prompting the user for input and trying to convert to float\n",
        "        num1 = input(\"Please enter the first number: \")\n",
        "        num2 = input(\"Please enter the second number: \")\n",
        "\n",
        "        # Check if the inputs are valid floats\n",
        "        if not num1.replace('.', '', 1).isdigit() or not num2.replace('.', '', 1).isdigit():\n",
        "            raise TypeError(\"Error: Both inputs must be numerical values.\")\n",
        "\n",
        "        num1 = float(num1)\n",
        "        num2 = float(num2)\n",
        "\n",
        "        return num1, num2\n",
        "    except TypeError as e:\n",
        "        raise e\n",
        "\n",
        "# Example usage\n",
        "try:\n",
        "    num1, num2 = get_two_numbers()\n",
        "    print(f\"You entered: {num1} and {num2}\")\n",
        "    print(f\"Both numbers are of type float: {isinstance(num1, float) and isinstance(num2, float)}\")\n",
        "except TypeError as e:\n",
        "    print(e)\n"
      ],
      "metadata": {
        "colab": {
          "base_uri": "https://localhost:8080/"
        },
        "id": "4Fvp6JFYpQFU",
        "outputId": "f08ca97c-83cb-42d1-dc3b-82b542e599e1"
      },
      "execution_count": 15,
      "outputs": [
        {
          "output_type": "stream",
          "name": "stdout",
          "text": [
            "Please enter the first number: 6\n",
            "Please enter the second number: nine\n",
            "Error: Both inputs must be numerical values.\n"
          ]
        }
      ]
    },
    {
      "cell_type": "markdown",
      "source": [],
      "metadata": {
        "id": "iGYBeyT9snXu"
      }
    },
    {
      "cell_type": "markdown",
      "source": [],
      "metadata": {
        "id": "cmZAguk1snUW"
      }
    },
    {
      "cell_type": "markdown",
      "source": [],
      "metadata": {
        "id": "LOvN_gLzsnRh"
      }
    },
    {
      "cell_type": "code",
      "source": [],
      "metadata": {
        "id": "pqhefbbzsnFD"
      },
      "execution_count": null,
      "outputs": []
    }
  ]
}