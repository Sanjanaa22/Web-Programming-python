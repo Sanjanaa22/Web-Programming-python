{
  "nbformat": 4,
  "nbformat_minor": 0,
  "metadata": {
    "colab": {
      "provenance": []
    },
    "kernelspec": {
      "name": "python3",
      "display_name": "Python 3"
    },
    "language_info": {
      "name": "python"
    }
  },
  "cells": [
    {
      "cell_type": "markdown",
      "source": [
        "# **Lab ASSIGNMENT -09**"
      ],
      "metadata": {
        "id": "dVTsC4zH6AsO"
      }
    },
    {
      "cell_type": "markdown",
      "source": [
        "# 1)Write a python program to Count all letters , digits, and special Symbols from the given string\n",
        "\n",
        "# input:\"P@#yn26at^&i5ve\"\n",
        "# Output: chars=8 Digits= 2 symbol =3\n"
      ],
      "metadata": {
        "id": "mRzm2HIm6Z8h"
      }
    },
    {
      "cell_type": "code",
      "source": [
        "# Given string\n",
        "input_string = \"P@#yn26at^&i5ve\"\n",
        "\n",
        "# Initialize counters\n",
        "chars = 0\n",
        "digits = 0\n",
        "symbols = 0\n",
        "\n",
        "# Loop through each character in the input string\n",
        "for char in input_string:\n",
        "    if char.isalpha():  # Check if the character is a letter\n",
        "        chars += 1\n",
        "    elif char.isdigit():  # Check if the character is a digit\n",
        "        digits += 1\n",
        "    else:  # If it's neither a letter nor a digit, it must be a symbol\n",
        "        symbols += 1\n",
        "\n",
        "# Print the results\n",
        "print(f\"chars= {chars} Digits= {digits} symbols= {symbols}\")\n",
        "\n",
        "\n"
      ],
      "metadata": {
        "colab": {
          "base_uri": "https://localhost:8080/"
        },
        "id": "RFclaYPf6QBc",
        "outputId": "7eb67aa6-9bef-4d1f-c652-ff8e88ee2008"
      },
      "execution_count": 1,
      "outputs": [
        {
          "output_type": "stream",
          "name": "stdout",
          "text": [
            "chars= 8 Digits= 3 symbols= 4\n"
          ]
        }
      ]
    },
    {
      "cell_type": "markdown",
      "source": [
        "#2) Write a python program to remove duplicate characters of a given string\n",
        "\n",
        "#input=\"String and String Function\"\n",
        "#output=\"String and  Function\""
      ],
      "metadata": {
        "id": "sgTjZsTmRx9O"
      }
    },
    {
      "cell_type": "code",
      "source": [
        "# Given string\n",
        "input_string = \"String and String Function\"\n",
        "\n",
        "# Split the string into words to remove duplicates in each word\n",
        "words = input_string.split()\n",
        "\n",
        "# Initialize an empty list to store words without duplicates\n",
        "result_words = []\n",
        "\n",
        "# Iterate over the list of words\n",
        "for word in words:\n",
        "    # Create a new string to store the unique characters of the word\n",
        "    unique_word = \"\"\n",
        "\n",
        "    # Iterate over each character in the word\n",
        "    for char in word:\n",
        "        if char not in unique_word:\n",
        "            unique_word += char  # Add the character if not already in the word\n",
        "\n",
        "    # Add the processed word to the result list\n",
        "    result_words.append(unique_word)\n",
        "\n",
        "# Join the list of words back into a single string with spaces between them\n",
        "result = \" \".join(result_words)\n",
        "\n",
        "# Print the result\n",
        "print(result)\n",
        "\n"
      ],
      "metadata": {
        "colab": {
          "base_uri": "https://localhost:8080/"
        },
        "id": "3M1ujYovarWm",
        "outputId": "7d88a788-1a6a-4ae3-f050-e63dc7904d97"
      },
      "execution_count": 2,
      "outputs": [
        {
          "output_type": "stream",
          "name": "stdout",
          "text": [
            "String and String Functio\n"
          ]
        }
      ]
    },
    {
      "cell_type": "markdown",
      "source": [
        "# 4)Write a Python Program to count  Uppercase Lowercase Special character and Numeric values in a given string:\n",
        "\n",
        "# input = \"Hell0 W0rld ! 123 * # welcome to pYtHoN\"\n",
        "# output:\n",
        "#  Uppercase :5\n",
        "#  Lowercase :18\n",
        "#  Numbercase :5\n",
        "#  Specialcase :11"
      ],
      "metadata": {
        "id": "WP3WPFYbTEcr"
      }
    },
    {
      "cell_type": "code",
      "source": [
        "# Given string\n",
        "input_string = \"Hell0 W0rld ! 123 * # welcome to pYtHoN\"\n",
        "\n",
        "# Initialize counters\n",
        "uppercase_count = 0\n",
        "lowercase_count = 0\n",
        "numeric_count = 0\n",
        "special_count = 0\n",
        "\n",
        "# Loop through each character in the string\n",
        "for char in input_string:\n",
        "    # Check if the character is uppercase using string method\n",
        "    if char.isupper():\n",
        "        uppercase_count += 1\n",
        "     # Check if the character is lowercase using string method\n",
        "    elif char.islower():\n",
        "        lowercase_count += 1\n",
        "    # Check if the character is a digit using string method\n",
        "    elif char.isdigit():\n",
        "        numeric_count += 1\n",
        "    # Check if the character is not alphanumeric (special characters)\n",
        "    elif not char.isalnum():\n",
        "        special_count += 1\n",
        "\n",
        "# Print the results\n",
        "print(f\"Uppercase: {uppercase_count}\")\n",
        "print(f\"Lowercase: {lowercase_count}\")\n",
        "print(f\"Numbercase: {numeric_count}\")\n",
        "print(f\"Specialcase: {special_count}\")\n"
      ],
      "metadata": {
        "colab": {
          "base_uri": "https://localhost:8080/"
        },
        "id": "-i6KA9IETDzS",
        "outputId": "d24d88d6-129c-45bf-ef37-17b5422ef2ef"
      },
      "execution_count": 3,
      "outputs": [
        {
          "output_type": "stream",
          "name": "stdout",
          "text": [
            "Uppercase: 5\n",
            "Lowercase: 18\n",
            "Numbercase: 5\n",
            "Specialcase: 11\n"
          ]
        }
      ]
    },
    {
      "cell_type": "markdown",
      "source": [
        "#5)Write a python program  to count vowels in a string\n",
        "\n",
        "# input = Welcome to Python Assignment\"\n",
        "#output= Total vowels are :08"
      ],
      "metadata": {
        "id": "6hFwOMWMVIV5"
      }
    },
    {
      "cell_type": "code",
      "execution_count": 4,
      "metadata": {
        "colab": {
          "base_uri": "https://localhost:8080/"
        },
        "id": "oSB3psu03ssf",
        "outputId": "0a7450a2-691f-46aa-dc99-5b165c2b4abf"
      },
      "outputs": [
        {
          "output_type": "stream",
          "name": "stdout",
          "text": [
            "Total vowels are: 8\n"
          ]
        }
      ],
      "source": [
        "# Given string\n",
        "strings = \"Welcome to Python Assignment\"\n",
        "\n",
        "# Convert the string to lowercase for case-insensitive counting\n",
        "strings = strings.lower()\n",
        "\n",
        "# Count vowels using string methods\n",
        "vowel_count = strings.count('a') + strings.count('e') + strings.count('i') + \\\n",
        "              strings.count('o') + strings.count('u')\n",
        "\n",
        "# Print the result\n",
        "print(f\"Total vowels are: {vowel_count}\")\n",
        "\n"
      ]
    },
    {
      "cell_type": "code",
      "source": [],
      "metadata": {
        "id": "qjD_JP4Hhgjz"
      },
      "execution_count": null,
      "outputs": []
    },
    {
      "cell_type": "code",
      "source": [],
      "metadata": {
        "id": "N1OfPQ03hggX"
      },
      "execution_count": null,
      "outputs": []
    },
    {
      "cell_type": "code",
      "source": [],
      "metadata": {
        "id": "_fHeItxghgc8"
      },
      "execution_count": null,
      "outputs": []
    },
    {
      "cell_type": "code",
      "source": [],
      "metadata": {
        "id": "hqAmntHPhgaB"
      },
      "execution_count": null,
      "outputs": []
    }
  ]
}