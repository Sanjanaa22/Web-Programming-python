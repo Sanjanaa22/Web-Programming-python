{
  "nbformat": 4,
  "nbformat_minor": 0,
  "metadata": {
    "colab": {
      "provenance": []
    },
    "kernelspec": {
      "name": "python3",
      "display_name": "Python 3"
    },
    "language_info": {
      "name": "python"
    }
  },
  "cells": [
    {
      "cell_type": "markdown",
      "source": [
        "# **LAB ASSIGNMNET 04**"
      ],
      "metadata": {
        "id": "rgiWqYQTwfxI"
      }
    },
    {
      "cell_type": "markdown",
      "source": [
        "# 1.Declare a div() function with two parameters. Then call the function and pass two numbers and display their division\n"
      ],
      "metadata": {
        "id": "j_7hp4LVwnMP"
      }
    },
    {
      "cell_type": "code",
      "source": [
        "#defining a division function\n",
        "\n",
        "# Define the div function that performs division\n",
        "def div(num1, num2):\n",
        "    return num1 / num2\n",
        "\n",
        "# Get two numbers from the user\n",
        "num1 = float(input(\"Enter the first number: \"))\n",
        "num2 = float(input(\"Enter the second number: \"))\n",
        "\n",
        "# Call the div function and display the result\n",
        "print(\"The result of the division is:\", div(num1, num2))"
      ],
      "metadata": {
        "colab": {
          "base_uri": "https://localhost:8080/"
        },
        "id": "cxikpRh40KAj",
        "outputId": "126e7794-2a62-48b4-8845-d0ec6b225d2a"
      },
      "execution_count": 1,
      "outputs": [
        {
          "output_type": "stream",
          "name": "stdout",
          "text": [
            "Enter the first number: 57\n",
            "Enter the second number: 79\n",
            "The result of the division is: 0.7215189873417721\n"
          ]
        }
      ]
    },
    {
      "cell_type": "markdown",
      "source": [
        "#2.Declare a square() function with one parameter .Then call the fuction and pass one number and display the square of that number"
      ],
      "metadata": {
        "id": "494wFVOExswb"
      }
    },
    {
      "cell_type": "code",
      "source": [
        "#define square function\n",
        "\n",
        "def sqr(num):\n",
        "    return num*num\n",
        "\n",
        "#get use input\n",
        "\n",
        "value=int((input(\"Enter number\\t\")))\n",
        "\n",
        "#call square function\n",
        "\n",
        "#sqr(value)\n",
        "print(f\"The square of {value} is:{sqr(value)}\")"
      ],
      "metadata": {
        "colab": {
          "base_uri": "https://localhost:8080/"
        },
        "id": "YHhNKCFk1gDC",
        "outputId": "541b130c-3eff-4c2c-ce2d-34afe5579205"
      },
      "execution_count": 2,
      "outputs": [
        {
          "output_type": "stream",
          "name": "stdout",
          "text": [
            "Enter number\t99\n",
            "The square of 99 is:9801\n"
          ]
        }
      ]
    },
    {
      "cell_type": "markdown",
      "source": [
        "# 3.Using max() and min() functions display the maximum and minimum of 5 random numbers\n"
      ],
      "metadata": {
        "id": "xm7ML7pgyFUC"
      }
    },
    {
      "cell_type": "code",
      "source": [
        "import random\n",
        "\n",
        "# Generate 5 random numbers\n",
        "random_numbers = [random.randint(1, 100) for _ in range(5)]\n",
        "\n",
        "# Display the list of random numbers\n",
        "print(\"Generated numbers:\", random_numbers)\n",
        "\n",
        "# Use the max() and min() functions to find the maximum and minimum numbers\n",
        "maximum_number = max(random_numbers)\n",
        "minimum_number = min(random_numbers)\n",
        "\n",
        "# Display the maximum and minimum numbers\n",
        "print(\"Maximum number:\", maximum_number)\n",
        "print(\"Minimum number:\", minimum_number)\n",
        "\n"
      ],
      "metadata": {
        "id": "m1ML3f-1392p",
        "colab": {
          "base_uri": "https://localhost:8080/"
        },
        "outputId": "efc733a3-7208-404b-90d1-7054980c20db"
      },
      "execution_count": 3,
      "outputs": [
        {
          "output_type": "stream",
          "name": "stdout",
          "text": [
            "Generated numbers: [90, 90, 98, 14, 30]\n",
            "Maximum number: 98\n",
            "Minimum number: 14\n"
          ]
        }
      ]
    },
    {
      "cell_type": "markdown",
      "source": [
        "# 4.Accept a name from the user and display in lowercase using lower() function"
      ],
      "metadata": {
        "id": "EIGWp25wzEVe"
      }
    },
    {
      "cell_type": "code",
      "source": [
        "name_input = input(\"Enter your name: \")\n",
        "\n",
        "# Using an alternative method to convert the input to lowercase\n",
        "lowercase_name = str(name_input).lower()\n",
        "\n",
        "# Display the name in lowercase\n",
        "print(\"Name in lowercase:\", lowercase_name)"
      ],
      "metadata": {
        "colab": {
          "base_uri": "https://localhost:8080/"
        },
        "id": "oHHIBcNO6-oM",
        "outputId": "21dae534-61e7-404d-f071-9ccbf8c0cffa"
      },
      "execution_count": 4,
      "outputs": [
        {
          "output_type": "stream",
          "name": "stdout",
          "text": [
            "Enter your name: fjQJFNjwe\n",
            "Name in lowercase: fjqjfnjwe\n"
          ]
        }
      ]
    },
    {
      "cell_type": "markdown",
      "source": [],
      "metadata": {
        "id": "tbkCsLWV817I"
      }
    },
    {
      "cell_type": "markdown",
      "source": [
        "# 5.Write a Lambda function that takes one argument and returns 'Postive'if the number is greater than 0 ,'Negative' if its less than 0, and 'Zero',if its 0.Test it with different numbers\n"
      ],
      "metadata": {
        "id": "CC0i2mQ_zUjF"
      }
    },
    {
      "cell_type": "code",
      "source": [
        "# Define the lambda function\n",
        "check_number = lambda x: 'Positive' if x > 0 else 'Negative' if x < 0 else 'Zero'\n",
        "\n",
        "# Test the lambda function with different numbers\n",
        "test_numbers = [17, -5, -1, 92, 0]\n",
        "\n",
        "# Display the result for each number\n",
        "for num in test_numbers:\n",
        "    print(f\"The number {num} is {check_number(num)}.\")\n",
        "\n"
      ],
      "metadata": {
        "colab": {
          "base_uri": "https://localhost:8080/"
        },
        "id": "BnNq31jYzDQk",
        "outputId": "c969ca43-d02f-485f-c796-f2b4476367d9"
      },
      "execution_count": 7,
      "outputs": [
        {
          "output_type": "stream",
          "name": "stdout",
          "text": [
            "The number 17 is Positive.\n",
            "The number -5 is Negative.\n",
            "The number -1 is Negative.\n",
            "The number 92 is Positive.\n",
            "The number 0 is Zero.\n"
          ]
        }
      ]
    },
    {
      "cell_type": "code",
      "source": [],
      "metadata": {
        "id": "THYcFPyowm4L"
      },
      "execution_count": null,
      "outputs": []
    },
    {
      "cell_type": "code",
      "source": [],
      "metadata": {
        "id": "1RsX7WOPwm0w"
      },
      "execution_count": null,
      "outputs": []
    },
    {
      "cell_type": "code",
      "source": [],
      "metadata": {
        "id": "964QxV2vwmx1"
      },
      "execution_count": null,
      "outputs": []
    },
    {
      "cell_type": "code",
      "source": [],
      "metadata": {
        "id": "ICP7MAZ7wmvQ"
      },
      "execution_count": null,
      "outputs": []
    },
    {
      "cell_type": "code",
      "source": [],
      "metadata": {
        "id": "W1sCThOCwmsq"
      },
      "execution_count": null,
      "outputs": []
    },
    {
      "cell_type": "code",
      "source": [],
      "metadata": {
        "id": "vvKEKZEqwmp2"
      },
      "execution_count": null,
      "outputs": []
    },
    {
      "cell_type": "code",
      "execution_count": null,
      "metadata": {
        "id": "jLwkCP1Uwe2x"
      },
      "outputs": [],
      "source": []
    }
  ]
}