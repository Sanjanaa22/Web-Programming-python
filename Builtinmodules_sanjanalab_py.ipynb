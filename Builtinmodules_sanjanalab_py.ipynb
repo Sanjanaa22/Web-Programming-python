{
  "nbformat": 4,
  "nbformat_minor": 0,
  "metadata": {
    "colab": {
      "provenance": []
    },
    "kernelspec": {
      "name": "python3",
      "display_name": "Python 3"
    },
    "language_info": {
      "name": "python"
    }
  },
  "cells": [
    {
      "cell_type": "markdown",
      "source": [
        "# **BUILTIN MODULES LAB ASSIGNMENT**\n"
      ],
      "metadata": {
        "id": "Edr8QYZpOtS-"
      }
    },
    {
      "cell_type": "markdown",
      "source": [
        "# 1)Write a python script using the os module to organize a directory of files by file type.The script should create separate folders(e.g.,'Images','Documents','Videos') and move the files into the respective folders based on their extensions(e.g., .jpg goes to 'Images' , .pdf to 'Documents')"
      ],
      "metadata": {
        "id": "GQm7Fyu9ReOF"
      }
    },
    {
      "cell_type": "code",
      "source": [
        "from google.colab import files\n",
        "uploaded = files.upload()"
      ],
      "metadata": {
        "colab": {
          "base_uri": "https://localhost:8080/",
          "height": 316
        },
        "id": "-nUxZLTebMCg",
        "outputId": "e3dc1760-06fd-40ab-9c63-1b2bbf40a440"
      },
      "execution_count": 1,
      "outputs": [
        {
          "output_type": "display_data",
          "data": {
            "text/plain": [
              "<IPython.core.display.HTML object>"
            ],
            "text/html": [
              "\n",
              "     <input type=\"file\" id=\"files-60f279c1-690a-4b5b-9add-abf855e85174\" name=\"files[]\" multiple disabled\n",
              "        style=\"border:none\" />\n",
              "     <output id=\"result-60f279c1-690a-4b5b-9add-abf855e85174\">\n",
              "      Upload widget is only available when the cell has been executed in the\n",
              "      current browser session. Please rerun this cell to enable.\n",
              "      </output>\n",
              "      <script>// Copyright 2017 Google LLC\n",
              "//\n",
              "// Licensed under the Apache License, Version 2.0 (the \"License\");\n",
              "// you may not use this file except in compliance with the License.\n",
              "// You may obtain a copy of the License at\n",
              "//\n",
              "//      http://www.apache.org/licenses/LICENSE-2.0\n",
              "//\n",
              "// Unless required by applicable law or agreed to in writing, software\n",
              "// distributed under the License is distributed on an \"AS IS\" BASIS,\n",
              "// WITHOUT WARRANTIES OR CONDITIONS OF ANY KIND, either express or implied.\n",
              "// See the License for the specific language governing permissions and\n",
              "// limitations under the License.\n",
              "\n",
              "/**\n",
              " * @fileoverview Helpers for google.colab Python module.\n",
              " */\n",
              "(function(scope) {\n",
              "function span(text, styleAttributes = {}) {\n",
              "  const element = document.createElement('span');\n",
              "  element.textContent = text;\n",
              "  for (const key of Object.keys(styleAttributes)) {\n",
              "    element.style[key] = styleAttributes[key];\n",
              "  }\n",
              "  return element;\n",
              "}\n",
              "\n",
              "// Max number of bytes which will be uploaded at a time.\n",
              "const MAX_PAYLOAD_SIZE = 100 * 1024;\n",
              "\n",
              "function _uploadFiles(inputId, outputId) {\n",
              "  const steps = uploadFilesStep(inputId, outputId);\n",
              "  const outputElement = document.getElementById(outputId);\n",
              "  // Cache steps on the outputElement to make it available for the next call\n",
              "  // to uploadFilesContinue from Python.\n",
              "  outputElement.steps = steps;\n",
              "\n",
              "  return _uploadFilesContinue(outputId);\n",
              "}\n",
              "\n",
              "// This is roughly an async generator (not supported in the browser yet),\n",
              "// where there are multiple asynchronous steps and the Python side is going\n",
              "// to poll for completion of each step.\n",
              "// This uses a Promise to block the python side on completion of each step,\n",
              "// then passes the result of the previous step as the input to the next step.\n",
              "function _uploadFilesContinue(outputId) {\n",
              "  const outputElement = document.getElementById(outputId);\n",
              "  const steps = outputElement.steps;\n",
              "\n",
              "  const next = steps.next(outputElement.lastPromiseValue);\n",
              "  return Promise.resolve(next.value.promise).then((value) => {\n",
              "    // Cache the last promise value to make it available to the next\n",
              "    // step of the generator.\n",
              "    outputElement.lastPromiseValue = value;\n",
              "    return next.value.response;\n",
              "  });\n",
              "}\n",
              "\n",
              "/**\n",
              " * Generator function which is called between each async step of the upload\n",
              " * process.\n",
              " * @param {string} inputId Element ID of the input file picker element.\n",
              " * @param {string} outputId Element ID of the output display.\n",
              " * @return {!Iterable<!Object>} Iterable of next steps.\n",
              " */\n",
              "function* uploadFilesStep(inputId, outputId) {\n",
              "  const inputElement = document.getElementById(inputId);\n",
              "  inputElement.disabled = false;\n",
              "\n",
              "  const outputElement = document.getElementById(outputId);\n",
              "  outputElement.innerHTML = '';\n",
              "\n",
              "  const pickedPromise = new Promise((resolve) => {\n",
              "    inputElement.addEventListener('change', (e) => {\n",
              "      resolve(e.target.files);\n",
              "    });\n",
              "  });\n",
              "\n",
              "  const cancel = document.createElement('button');\n",
              "  inputElement.parentElement.appendChild(cancel);\n",
              "  cancel.textContent = 'Cancel upload';\n",
              "  const cancelPromise = new Promise((resolve) => {\n",
              "    cancel.onclick = () => {\n",
              "      resolve(null);\n",
              "    };\n",
              "  });\n",
              "\n",
              "  // Wait for the user to pick the files.\n",
              "  const files = yield {\n",
              "    promise: Promise.race([pickedPromise, cancelPromise]),\n",
              "    response: {\n",
              "      action: 'starting',\n",
              "    }\n",
              "  };\n",
              "\n",
              "  cancel.remove();\n",
              "\n",
              "  // Disable the input element since further picks are not allowed.\n",
              "  inputElement.disabled = true;\n",
              "\n",
              "  if (!files) {\n",
              "    return {\n",
              "      response: {\n",
              "        action: 'complete',\n",
              "      }\n",
              "    };\n",
              "  }\n",
              "\n",
              "  for (const file of files) {\n",
              "    const li = document.createElement('li');\n",
              "    li.append(span(file.name, {fontWeight: 'bold'}));\n",
              "    li.append(span(\n",
              "        `(${file.type || 'n/a'}) - ${file.size} bytes, ` +\n",
              "        `last modified: ${\n",
              "            file.lastModifiedDate ? file.lastModifiedDate.toLocaleDateString() :\n",
              "                                    'n/a'} - `));\n",
              "    const percent = span('0% done');\n",
              "    li.appendChild(percent);\n",
              "\n",
              "    outputElement.appendChild(li);\n",
              "\n",
              "    const fileDataPromise = new Promise((resolve) => {\n",
              "      const reader = new FileReader();\n",
              "      reader.onload = (e) => {\n",
              "        resolve(e.target.result);\n",
              "      };\n",
              "      reader.readAsArrayBuffer(file);\n",
              "    });\n",
              "    // Wait for the data to be ready.\n",
              "    let fileData = yield {\n",
              "      promise: fileDataPromise,\n",
              "      response: {\n",
              "        action: 'continue',\n",
              "      }\n",
              "    };\n",
              "\n",
              "    // Use a chunked sending to avoid message size limits. See b/62115660.\n",
              "    let position = 0;\n",
              "    do {\n",
              "      const length = Math.min(fileData.byteLength - position, MAX_PAYLOAD_SIZE);\n",
              "      const chunk = new Uint8Array(fileData, position, length);\n",
              "      position += length;\n",
              "\n",
              "      const base64 = btoa(String.fromCharCode.apply(null, chunk));\n",
              "      yield {\n",
              "        response: {\n",
              "          action: 'append',\n",
              "          file: file.name,\n",
              "          data: base64,\n",
              "        },\n",
              "      };\n",
              "\n",
              "      let percentDone = fileData.byteLength === 0 ?\n",
              "          100 :\n",
              "          Math.round((position / fileData.byteLength) * 100);\n",
              "      percent.textContent = `${percentDone}% done`;\n",
              "\n",
              "    } while (position < fileData.byteLength);\n",
              "  }\n",
              "\n",
              "  // All done.\n",
              "  yield {\n",
              "    response: {\n",
              "      action: 'complete',\n",
              "    }\n",
              "  };\n",
              "}\n",
              "\n",
              "scope.google = scope.google || {};\n",
              "scope.google.colab = scope.google.colab || {};\n",
              "scope.google.colab._files = {\n",
              "  _uploadFiles,\n",
              "  _uploadFilesContinue,\n",
              "};\n",
              "})(self);\n",
              "</script> "
            ]
          },
          "metadata": {}
        },
        {
          "output_type": "stream",
          "name": "stdout",
          "text": [
            "Saving Nange Allava Female Cover __ Sanjith Hegde.mp3 to Nange Allava Female Cover __ Sanjith Hegde (1).mp3\n",
            "Saving Photo-DP-Cover-1000.jpg to Photo-DP-Cover-1000 (1).jpg\n",
            "Saving style.css to style (1).css\n",
            "Saving books.png to books (1).png\n",
            "Saving Book_rec.png to Book_rec (1).png\n",
            "Saving VID20221221152123.mp4 to VID20221221152123 (1).mp4\n",
            "Saving 87- fig 75.5 a.pdf to 87- fig 75.5 a (1).pdf\n",
            "Saving 86- fig 74.24.pdf to 86- fig 74.24 (1).pdf\n"
          ]
        }
      ]
    },
    {
      "cell_type": "code",
      "source": [
        "import os\n",
        "import shutil\n",
        "\n",
        "file_types = {\n",
        "    'Images': ['.jpg', '.jpeg', '.png', '.gif', '.bmp'],\n",
        "    'Documents': ['.pdf', '.docx', '.txt', '.xlsx', '.pptx'],\n",
        "    'Videos': ['.mp4', '.mov', '.avi', '.mkv'],\n",
        "    'Music': ['.mp3', '.wav', '.aac'],\n",
        "    'Archives': ['.zip', '.rar', '.tar', '.gz'],\n",
        "    'Scripts': ['.py', '.js', '.html', '.css']\n",
        "}\n",
        "\n",
        "\n",
        "directory = os.getcwd()\n",
        "\n",
        "for filename in os.listdir(directory):\n",
        "    file_path = os.path.join(directory, filename)\n",
        "\n",
        "    if os.path.isdir(file_path):\n",
        "        continue\n",
        "\n",
        "    _, ext = os.path.splitext(filename)\n",
        "\n",
        "    if not ext:\n",
        "        continue\n",
        "\n",
        "    moved = False\n",
        "    for folder, extensions in file_types.items():\n",
        "        if ext.lower() in extensions:\n",
        "            folder_path = os.path.join(directory, folder)\n",
        "            os.makedirs(folder_path, exist_ok=True)\n",
        "            shutil.move(file_path, os.path.join(folder_path, filename))\n",
        "            moved = True\n",
        "            break\n",
        "\n",
        "    if not moved:\n",
        "        other_path = os.path.join(directory, 'Others')\n",
        "        os.makedirs(other_path, exist_ok=True)\n",
        "        shutil.move(file_path, os.path.join(other_path, filename))\n",
        "\n",
        "print(\"Files have been organized!\")\n"
      ],
      "metadata": {
        "colab": {
          "base_uri": "https://localhost:8080/"
        },
        "id": "qp3qcl-RcLHU",
        "outputId": "08f3e864-c4c4-4c25-a31f-316a61abe0b1"
      },
      "execution_count": 3,
      "outputs": [
        {
          "output_type": "stream",
          "name": "stdout",
          "text": [
            "✅ Files have been organized!\n"
          ]
        }
      ]
    },
    {
      "cell_type": "code",
      "source": [
        "\n",
        "# List the files and directories recursively in /content\n",
        "for foldername, subfolders, filenames in os.walk(\"/content\"):\n",
        "    print(f'Found directory: {foldername}')\n",
        "    for filename in filenames:\n",
        "        print(f'\\t{filename}')"
      ],
      "metadata": {
        "colab": {
          "base_uri": "https://localhost:8080/"
        },
        "id": "St4iBRo8fVnP",
        "outputId": "5727f08c-685c-4af3-950f-4e1ada235dd6"
      },
      "execution_count": 4,
      "outputs": [
        {
          "output_type": "stream",
          "name": "stdout",
          "text": [
            "Found directory: /content\n",
            "Found directory: /content/.config\n",
            "\tdefault_configs.db\n",
            "\t.last_opt_in_prompt.yaml\n",
            "\tactive_config\n",
            "\tgce\n",
            "\t.last_survey_prompt.yaml\n",
            "\t.last_update_check.json\n",
            "\tconfig_sentinel\n",
            "\thidden_gcloud_config_universe_descriptor_data_cache_configs.db\n",
            "Found directory: /content/.config/logs\n",
            "Found directory: /content/.config/logs/2025.04.21\n",
            "\t18.42.22.411154.log\n",
            "\t18.42.31.744939.log\n",
            "\t18.42.12.824329.log\n",
            "\t18.42.21.235934.log\n",
            "\t18.42.31.045496.log\n",
            "\t18.41.51.884422.log\n",
            "Found directory: /content/.config/configurations\n",
            "\tconfig_default\n",
            "Found directory: /content/Music\n",
            "\tNange Allava Female Cover __ Sanjith Hegde.mp3\n",
            "\tNange Allava Female Cover __ Sanjith Hegde (1).mp3\n",
            "Found directory: /content/Images\n",
            "\tbooks (1).png\n",
            "\tPhoto-DP-Cover-1000.jpg\n",
            "\tbooks.png\n",
            "\tPhoto-DP-Cover-1000 (1).jpg\n",
            "\tBook_rec.png\n",
            "\tBook_rec (1).png\n",
            "Found directory: /content/Videos\n",
            "\tVID20221221152123.mp4\n",
            "\tVID20221221152123 (1).mp4\n",
            "Found directory: /content/Scripts\n",
            "\tstyle (1).css\n",
            "\tstyle.css\n",
            "Found directory: /content/Documents\n",
            "\t86- fig 74.24.pdf\n",
            "\t86- fig 74.24 (1).pdf\n",
            "\t87- fig 75.5 a.pdf\n",
            "\t87- fig 75.5 a (1).pdf\n",
            "Found directory: /content/sample_data\n",
            "\tREADME.md\n",
            "\tanscombe.json\n",
            "\tcalifornia_housing_test.csv\n",
            "\tcalifornia_housing_train.csv\n",
            "\tmnist_train_small.csv\n",
            "\tmnist_test.csv\n"
          ]
        }
      ]
    },
    {
      "cell_type": "markdown",
      "source": [
        "#2)Write a Python script that checks if a folder called 'backup' exists.If it doesnt , create the folder and copy all files from the current directory to the 'backup' directory.Use the os module to handle directory creation and file operations"
      ],
      "metadata": {
        "id": "BCg2ZC02SfFU"
      }
    },
    {
      "cell_type": "code",
      "source": [
        "import os\n",
        "import shutil\n",
        "\n",
        "# Define the backup folder name\n",
        "backup_folder = 'backup'\n",
        "\n",
        "# Get the current directory\n",
        "current_directory = os.getcwd()\n",
        "\n",
        "# Check if the 'backup' folder exists\n",
        "if not os.path.exists(backup_folder):\n",
        "    # Create the 'backup' folder if it doesn't exist\n",
        "    os.makedirs(backup_folder)\n",
        "    print(f\"Folder '{backup_folder}' created.\")\n",
        "else:\n",
        "    print(f\"Folder '{backup_folder}' already exists.\")\n",
        "\n",
        "# Copy all files from the current directory to the 'backup' directory\n",
        "for filename in os.listdir(current_directory):\n",
        "    file_path = os.path.join(current_directory, filename)\n",
        "\n",
        "    # Skip directories\n",
        "    if os.path.isdir(file_path):\n",
        "        continue\n",
        "\n",
        "    # Copy the file to the 'backup' folder\n",
        "    shutil.copy(file_path, os.path.join(backup_folder, filename))\n",
        "\n",
        "print(f\"All files from {current_directory} have been copied to '{backup_folder}'!\")\n"
      ],
      "metadata": {
        "colab": {
          "base_uri": "https://localhost:8080/"
        },
        "id": "EK1J_dr9iER0",
        "outputId": "e8813cd2-8d9c-47c3-9638-f2850b05b795"
      },
      "execution_count": 5,
      "outputs": [
        {
          "output_type": "stream",
          "name": "stdout",
          "text": [
            "Folder 'backup' created.\n",
            "All files from /content have been copied to 'backup'!\n"
          ]
        }
      ]
    },
    {
      "cell_type": "code",
      "source": [
        "!ls /content/backup"
      ],
      "metadata": {
        "id": "FBwm69djh76h"
      },
      "execution_count": 6,
      "outputs": []
    },
    {
      "cell_type": "markdown",
      "source": [
        "#3)Create a program that greets the user based on the current time (e.g., \"Good Morning\" , before noon ,\"Good Afternoon\" in the afternoon and \"Good Evening\" in the evening). Use the datetime module to retrieve the current time and conditionally display a greeting.\n",
        "\n",
        "#output:\n",
        "\n",
        "#Good Afternoon ! The current time is 14:46"
      ],
      "metadata": {
        "id": "W4Xf9i2DTF3k"
      }
    },
    {
      "cell_type": "code",
      "source": [
        "import datetime\n",
        "\n",
        "# Get the current time\n",
        "now = datetime.datetime.now()\n",
        "current_hour = now.hour\n",
        "\n",
        "# Determine the greeting based on the hour\n",
        "if current_hour < 12:\n",
        "    greeting = \"Good Morning\"\n",
        "elif 12 <= current_hour < 18:\n",
        "    greeting = \"Good Afternoon\"\n",
        "else:\n",
        "    greeting = \"Good Evening\"\n",
        "\n",
        "# Format the current time as HH:MM\n",
        "formatted_time = now.strftime(\"%H:%M\")\n",
        "\n",
        "# Display the greeting and current time\n",
        "print(f\"{greeting}! The current time is {formatted_time}\")\n"
      ],
      "metadata": {
        "colab": {
          "base_uri": "https://localhost:8080/"
        },
        "id": "kLktSOxkiFJQ",
        "outputId": "3bc8f84d-8655-4edd-9c06-8598823c7162"
      },
      "execution_count": 22,
      "outputs": [
        {
          "output_type": "stream",
          "name": "stdout",
          "text": [
            "Good Morning! The current time is 08:17\n"
          ]
        }
      ]
    },
    {
      "cell_type": "markdown",
      "source": [
        "#4)Write a python program that asks the user to input two dates(in YYYY-MM-DD format) and calculates the number of days between the two dates.Use the datetime module to perform the calculation.\n",
        "\n",
        "#output:\n",
        "\n",
        "#Enter the first date(YYYY-MM-DD):2024-01-01\n",
        "#Enter the second date(YYYY-MM-DD):2024-01-10\n",
        "#The number of days between 2024-01-01 and 2024-01-10 is 9 days"
      ],
      "metadata": {
        "id": "_sl6TABIlS97"
      }
    },
    {
      "cell_type": "code",
      "source": [
        "import datetime\n",
        "\n",
        "# Ask the user for two dates\n",
        "date_str1 = input(\"Enter the first date (YYYY-MM-DD): \")\n",
        "date_str2 = input(\"Enter the second date (YYYY-MM-DD): \")\n",
        "\n",
        "# Convert strings to datetime.date objects\n",
        "date1 = datetime.datetime.strptime(date_str1, \"%Y-%m-%d\").date()\n",
        "date2 = datetime.datetime.strptime(date_str2, \"%Y-%m-%d\").date()\n",
        "\n",
        "# Calculate the difference in days\n",
        "difference = abs((date2 - date1).days)\n",
        "\n",
        "# Display the result\n",
        "print(f\"The number of days between {date1} and {date2} is {difference} days\")\n"
      ],
      "metadata": {
        "colab": {
          "base_uri": "https://localhost:8080/"
        },
        "id": "ivAi-bC3lSoD",
        "outputId": "9eb589ae-a98a-4d95-8f1c-29b0cf5e93d4"
      },
      "execution_count": 23,
      "outputs": [
        {
          "output_type": "stream",
          "name": "stdout",
          "text": [
            "Enter the first date (YYYY-MM-DD): 2024-09-10\n",
            "Enter the second date (YYYY-MM-DD): 2025-05-06\n",
            "The number of days between 2024-09-10 and 2025-05-06 is 238 days\n"
          ]
        }
      ]
    },
    {
      "cell_type": "code",
      "source": [],
      "metadata": {
        "id": "YTZeaofkoL_V"
      },
      "execution_count": null,
      "outputs": []
    },
    {
      "cell_type": "code",
      "source": [],
      "metadata": {
        "id": "QJAl6amsoL77"
      },
      "execution_count": null,
      "outputs": []
    },
    {
      "cell_type": "code",
      "source": [],
      "metadata": {
        "id": "Z07mEA3CoLsC"
      },
      "execution_count": null,
      "outputs": []
    }
  ]
}