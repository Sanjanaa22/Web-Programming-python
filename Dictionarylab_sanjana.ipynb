{
  "nbformat": 4,
  "nbformat_minor": 0,
  "metadata": {
    "colab": {
      "provenance": []
    },
    "kernelspec": {
      "name": "python3",
      "display_name": "Python 3"
    },
    "language_info": {
      "name": "python"
    }
  },
  "cells": [
    {
      "cell_type": "markdown",
      "source": [
        "# **DICTIONARY LAB ASSIGNMENT**"
      ],
      "metadata": {
        "id": "N6P5-KqFy-8c"
      }
    },
    {
      "cell_type": "markdown",
      "source": [
        "#1)You have student scores for different subjects. Create a dictionary that maps each student to their highest score\n",
        "\n",
        "#example data:\n",
        "\n",
        "#scores=\n",
        "       [\n",
        "         {student':'Alice','subject':'Math','Score':90},\n",
        "         {student':'Alice','subject':'English','Score':85},\n",
        "         {student':'Bob','subject':'Math','Score':75},\n",
        "         {student':'Bob','subject':'English','Score':80},\n",
        "         {student':'Charlie','subject':'Math','Score':95},\n",
        "         {student':'Charlie','subject':'English','Score':88}\n",
        "       ]\n",
        "output:\n",
        "\n",
        " ['Charlie':95 , 'Alice':90, 'Bob':80]"
      ],
      "metadata": {
        "id": "WxIgobGZzh67"
      }
    },
    {
      "cell_type": "code",
      "source": [
        "scores = [\n",
        "    {'student': 'Alice', 'subject': 'Math', 'Score': 90},\n",
        "    {'student': 'Alice', 'subject': 'English', 'Score': 85},\n",
        "    {'student': 'Bob', 'subject': 'Math', 'Score': 75},\n",
        "    {'student': 'Bob', 'subject': 'English', 'Score': 80},\n",
        "    {'student': 'Charlie', 'subject': 'Math', 'Score': 95},\n",
        "    {'student': 'Charlie', 'subject': 'English', 'Score': 88}\n",
        "]\n",
        "\n",
        "# Dictionary to hold highest score for each student\n",
        "highest_scores = {}\n",
        "\n",
        "for entry in scores:\n",
        "    name = entry['student']\n",
        "    score = entry['Score']\n",
        "\n",
        "    # Update if student not in dict or found a higher score\n",
        "    if name not in highest_scores or score > highest_scores[name]:\n",
        "        highest_scores[name] = score\n",
        "\n",
        "# Output\n",
        "print(highest_scores)\n"
      ],
      "metadata": {
        "colab": {
          "base_uri": "https://localhost:8080/"
        },
        "id": "Be5T938AzgLU",
        "outputId": "18616e50-7a79-445d-e817-e6825e75501b"
      },
      "execution_count": 1,
      "outputs": [
        {
          "output_type": "stream",
          "name": "stdout",
          "text": [
            "{'Alice': 90, 'Bob': 80, 'Charlie': 95}\n"
          ]
        }
      ]
    },
    {
      "cell_type": "code",
      "execution_count": null,
      "metadata": {
        "id": "0gYjEyMJy-Qy"
      },
      "outputs": [],
      "source": []
    },
    {
      "cell_type": "markdown",
      "source": [
        "#2)You have a list of items ,each with name and category.Group the items by their category ,where each category maps to a list of item names\n",
        "\n",
        "#Sample data:\n",
        "\n",
        "#items=\n",
        "   [\n",
        "     {'name'':'Apple','category':'fruit'},\n",
        "     {'name'':'Banana','category':'fruit'},\n",
        "     {'name'':'Carrot','category':'Vegetable'},\n",
        "     {'name'':'Brocoli','category':'Vegetable'},\n",
        "     {'name'':'Chicken','category':'Meat'}\n",
        "     \n",
        "   ]\n",
        "output:\n",
        "\n",
        " # Fruit ['Apple' , 'Banana']\n",
        " #Vegetable ['Carrot' ,'Brocoli']\n",
        " #Meat['Chicken']"
      ],
      "metadata": {
        "id": "PuY-tWHP3L0P"
      }
    },
    {
      "cell_type": "code",
      "source": [
        "items = [\n",
        "    {'name': 'Apple', 'category': 'Fruit'},\n",
        "    {'name': 'Banana', 'category': 'Fruit'},\n",
        "    {'name': 'Carrot', 'category': 'Vegetable'},\n",
        "    {'name': 'Brocoli', 'category': 'Vegetable'},\n",
        "    {'name': 'Chicken', 'category': 'Meat'}\n",
        "]\n",
        "\n",
        "# Dictionary to group items by category\n",
        "grouped_items = {}\n",
        "\n",
        "for item in items:\n",
        "    category = item['category']\n",
        "    name = item['name']\n",
        "\n",
        "    if category not in grouped_items:\n",
        "        grouped_items[category] = []\n",
        "    grouped_items[category].append(name)\n",
        "\n",
        "# Output the grouped items\n",
        "for category, names in grouped_items.items():\n",
        "    print(f\"{category}: {names}\")\n"
      ],
      "metadata": {
        "colab": {
          "base_uri": "https://localhost:8080/"
        },
        "id": "Uh4dtdnu4tPZ",
        "outputId": "c5149b14-ef37-414e-90a3-c9a3dc4bb154"
      },
      "execution_count": 2,
      "outputs": [
        {
          "output_type": "stream",
          "name": "stdout",
          "text": [
            "Fruit: ['Apple', 'Banana']\n",
            "Vegetable: ['Carrot', 'Brocoli']\n",
            "Meat: ['Chicken']\n"
          ]
        }
      ]
    },
    {
      "cell_type": "code",
      "source": [],
      "metadata": {
        "id": "V0QGEdFq4tVv"
      },
      "execution_count": null,
      "outputs": []
    }
  ]
}