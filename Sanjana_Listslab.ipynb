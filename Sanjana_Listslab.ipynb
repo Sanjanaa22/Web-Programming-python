{
  "nbformat": 4,
  "nbformat_minor": 0,
  "metadata": {
    "colab": {
      "provenance": []
    },
    "kernelspec": {
      "name": "python3",
      "display_name": "Python 3"
    },
    "language_info": {
      "name": "python"
    }
  },
  "cells": [
    {
      "cell_type": "markdown",
      "source": [
        "# **LISTS LAB ASSIGNMENT**"
      ],
      "metadata": {
        "id": "EcXpNeEGu3i9"
      }
    },
    {
      "cell_type": "markdown",
      "source": [
        "#1)You have a list of employees records,and you need to create a new list that contains thr names of employees who work in the 'Sales' department ,all in uppercase\n",
        "\n",
        "#example data:\n",
        "\n",
        "#employees=\n",
        "           [\n",
        "             {\"name\":\"John Doe\",\"department\":\"Sales\"},\n",
        "             {\"name\":\"Jane Smith\",\"department\":\"Marketing\"},\n",
        "             {\"name\":\"Emily Johnson\",\"department\":\"Sales\"},\n",
        "             {\"name\":\"Michael Brown\",\"department\":\"HR\"},\n",
        "           ]\n",
        "\n",
        "\n",
        "output:\n",
        "\n",
        "     ['JOHN DOE' , 'EMILY JOHNSON]"
      ],
      "metadata": {
        "id": "G-AauPxvvLCm"
      }
    },
    {
      "cell_type": "code",
      "source": [
        "employees = [\n",
        "    {\"name\": \"John Doe\", \"department\": \"Sales\"},\n",
        "    {\"name\": \"Jane Smith\", \"department\": \"Marketing\"},\n",
        "    {\"name\": \"Emily Johnson\", \"department\": \"Sales\"},\n",
        "    {\"name\": \"Michael Brown\", \"department\": \"HR\"},\n",
        "]\n",
        "\n",
        "# Get names of employees in Sales department in uppercase\n",
        "sales_employees_upper = [emp[\"name\"].upper() for emp in employees if emp[\"department\"] == \"Sales\"]\n",
        "\n",
        "# Output\n",
        "print(sales_employees_upper)\n"
      ],
      "metadata": {
        "colab": {
          "base_uri": "https://localhost:8080/"
        },
        "id": "4NJXqqC5wzTn",
        "outputId": "314a53ca-3b89-42fb-e2d9-2e8c38616bf9"
      },
      "execution_count": 1,
      "outputs": [
        {
          "output_type": "stream",
          "name": "stdout",
          "text": [
            "['JOHN DOE', 'EMILY JOHNSON']\n"
          ]
        }
      ]
    },
    {
      "cell_type": "code",
      "source": [],
      "metadata": {
        "id": "tXbLqIF8wzQT"
      },
      "execution_count": null,
      "outputs": []
    },
    {
      "cell_type": "code",
      "source": [],
      "metadata": {
        "id": "E3MzFfiLwyoU"
      },
      "execution_count": null,
      "outputs": []
    },
    {
      "cell_type": "markdown",
      "source": [
        "#2)You have a list of email addresses and you want to extract the domain part(the part after '@')from each email address\n",
        "\n",
        "#example data:\n",
        "\n",
        "#emails =\n",
        "         [\n",
        "          \"alice@example.com\",\n",
        "          \"bob@sample.org\",\n",
        "          \"charlie@mydomain.net\"\n",
        "         ]\n",
        "\n",
        "#output:\n",
        "\n",
        "#s['example.com' , 'sample.org' , 'mydomain.net']"
      ],
      "metadata": {
        "id": "BGaULHGRwxmE"
      }
    },
    {
      "cell_type": "code",
      "source": [
        "emails = [\n",
        "    \"alice@example.com\",\n",
        "    \"bob@sample.org\",\n",
        "    \"charlie@mydomain.net\"\n",
        "]\n",
        "\n",
        "# Extract domain part from each email\n",
        "domains = [email.split('@')[1] for email in emails]\n",
        "\n",
        "# Output\n",
        "print(domains)"
      ],
      "metadata": {
        "colab": {
          "base_uri": "https://localhost:8080/"
        },
        "id": "j5eI00EBvICv",
        "outputId": "4b4793cd-8359-46ab-8b5f-4eef18b67817"
      },
      "execution_count": 2,
      "outputs": [
        {
          "output_type": "stream",
          "name": "stdout",
          "text": [
            "['example.com', 'sample.org', 'mydomain.net']\n"
          ]
        }
      ]
    },
    {
      "cell_type": "code",
      "execution_count": null,
      "metadata": {
        "id": "yEt7WKl4usN4"
      },
      "outputs": [],
      "source": []
    }
  ]
}