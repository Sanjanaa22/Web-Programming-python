{
  "nbformat": 4,
  "nbformat_minor": 0,
  "metadata": {
    "colab": {
      "provenance": []
    },
    "kernelspec": {
      "name": "python3",
      "display_name": "Python 3"
    },
    "language_info": {
      "name": "python"
    }
  },
  "cells": [
    {
      "cell_type": "markdown",
      "source": [
        "# **STANDARD MODULES AND CUSTOM MODULES LAB ASSIGNMENT**"
      ],
      "metadata": {
        "id": "onJFNOhRrzu_"
      }
    },
    {
      "cell_type": "markdown",
      "source": [
        "# 1)\n",
        "\n",
        "*   Create a custom module named my_calculations.py with functions for addition and subtraction.Import this module in a separate script and use the functions\n",
        "*   Import only pi constant from the math module and use it to calculate the area of circle with radius 7\n",
        "*   Import the log function from the math module as logaritm and compute the natural log of 10.\n",
        "\n",
        "\n",
        "\n",
        "\n",
        "\n",
        "\n"
      ],
      "metadata": {
        "id": "YfILAp-svqS0"
      }
    },
    {
      "cell_type": "code",
      "source": [
        "%%writefile my_calculations.py\n",
        "def add(a, b):\n",
        "    return a + b\n",
        "\n",
        "def subtract(a, b):\n",
        "    return a - b"
      ],
      "metadata": {
        "colab": {
          "base_uri": "https://localhost:8080/"
        },
        "id": "zDywD_wT7Y33",
        "outputId": "42e64438-a5a2-4532-8681-7cc8a2a98cd8"
      },
      "execution_count": 1,
      "outputs": [
        {
          "output_type": "stream",
          "name": "stdout",
          "text": [
            "Writing my_calculations.py\n"
          ]
        }
      ]
    },
    {
      "cell_type": "code",
      "source": [
        "import my_calculations\n",
        "\n",
        "# Using functions from the custom module\n",
        "sum_result = my_calculations.add(10, 5)\n",
        "diff_result = my_calculations.subtract(10, 5)\n",
        "\n",
        "print(\"Addition Result:\", sum_result)\n",
        "print(\"Subtraction Result:\", diff_result)"
      ],
      "metadata": {
        "colab": {
          "base_uri": "https://localhost:8080/"
        },
        "id": "E9Q-Rhr7xGWX",
        "outputId": "7d59962d-30b1-4918-e12c-adfd6014862a"
      },
      "execution_count": 2,
      "outputs": [
        {
          "output_type": "stream",
          "name": "stdout",
          "text": [
            "Addition Result: 15\n",
            "Subtraction Result: 5\n"
          ]
        }
      ]
    },
    {
      "cell_type": "code",
      "source": [
        "from math import pi\n",
        "\n",
        "radius = 7\n",
        "area = pi * radius ** 2\n",
        "print(\"Area of circle with radius 7:\", area)"
      ],
      "metadata": {
        "colab": {
          "base_uri": "https://localhost:8080/"
        },
        "id": "A0NBUqpa7blM",
        "outputId": "3060b642-5391-4681-be93-af4b89fe8ae4"
      },
      "execution_count": 3,
      "outputs": [
        {
          "output_type": "stream",
          "name": "stdout",
          "text": [
            "Area of circle with radius 7: 153.93804002589985\n"
          ]
        }
      ]
    },
    {
      "cell_type": "code",
      "source": [
        "from math import log as logaritm\n",
        "\n",
        "natural_log = logaritm(10)\n",
        "print(\"Natural log of 10:\", natural_log)"
      ],
      "metadata": {
        "colab": {
          "base_uri": "https://localhost:8080/"
        },
        "id": "q09HfGwV7Vff",
        "outputId": "78a381e4-2cf2-4f47-8f6a-2e3835a3be5d"
      },
      "execution_count": 4,
      "outputs": [
        {
          "output_type": "stream",
          "name": "stdout",
          "text": [
            "Natural log of 10: 2.302585092994046\n"
          ]
        }
      ]
    },
    {
      "cell_type": "markdown",
      "source": [
        "2)\n",
        "\n",
        "* Imagine you are developing a personal finanace tracking application.create a custom module named finance.py that includes functions for calculating expenses, income and savings.Describe the functions you would include and how you would import this module in your main application\n",
        "\n"
      ],
      "metadata": {
        "id": "do-RVxW8xHb0"
      }
    },
    {
      "cell_type": "code",
      "execution_count": 5,
      "metadata": {
        "colab": {
          "base_uri": "https://localhost:8080/"
        },
        "id": "X75FfWkkio0z",
        "outputId": "33ece105-fbaf-4b2f-e2b3-c3a5b23659a8"
      },
      "outputs": [
        {
          "output_type": "stream",
          "name": "stdout",
          "text": [
            "Writing finance.py\n"
          ]
        }
      ],
      "source": [
        "%%writefile finance.py\n",
        "def calculate_expenses(expense_list):\n",
        "    \"\"\"Returns the total of all expenses.\"\"\"\n",
        "    return sum(expense_list)\n",
        "\n",
        "def calculate_income(income_list):\n",
        "    \"\"\"Returns the total of all income sources.\"\"\"\n",
        "    return sum(income_list)\n",
        "\n",
        "def calculate_savings(income, expenses):\n",
        "    \"\"\"Returns the savings (income - expenses).\"\"\"\n",
        "    return income - expenses\n"
      ]
    },
    {
      "cell_type": "code",
      "source": [
        "import finance\n",
        "\n",
        "# Sample data\n",
        "my_expenses = [1500, 300, 200, 450]   # rent, groceries, bills, misc\n",
        "my_income = [3000, 500]               # salary, freelance\n",
        "\n",
        "# Calculations using the module\n",
        "total_expenses = finance.calculate_expenses(my_expenses)\n",
        "total_income = finance.calculate_income(my_income)\n",
        "my_savings = finance.calculate_savings(total_income, total_expenses)\n",
        "\n",
        "# Output results\n",
        "print(\"Total Income:\", total_income)\n",
        "print(\"Total Expenses:\", total_expenses)\n",
        "print(\"Savings:\", my_savings)\n"
      ],
      "metadata": {
        "colab": {
          "base_uri": "https://localhost:8080/"
        },
        "id": "qasXD9Xf76C4",
        "outputId": "add15860-be0a-4c4f-cbad-da7304f271bc"
      },
      "execution_count": 6,
      "outputs": [
        {
          "output_type": "stream",
          "name": "stdout",
          "text": [
            "Total Income: 3500\n",
            "Total Expenses: 2450\n",
            "Savings: 1050\n"
          ]
        }
      ]
    },
    {
      "cell_type": "markdown",
      "source": [
        "3)\n",
        "\n",
        "*   import the random module as rnd and generate a random integer between 1 and 100\n",
        "*   Import math module and calculate the square root of 49 and the sine of 90 degrees (convert degrees to radians using math.radians)\n",
        "\n",
        "\n",
        "\n"
      ],
      "metadata": {
        "id": "XsK2ekDa5Ktg"
      }
    },
    {
      "cell_type": "code",
      "source": [
        "import random as rnd\n",
        "\n",
        "# Generate a random integer between 1 and 100\n",
        "random_number = rnd.randint(1, 100)\n",
        "print(\"Random integer between 1 and 100:\", random_number)\n"
      ],
      "metadata": {
        "colab": {
          "base_uri": "https://localhost:8080/"
        },
        "id": "zuw9DNwcxHB0",
        "outputId": "1ebdaf50-5c0d-451e-a2b5-b4c1757281b7"
      },
      "execution_count": 7,
      "outputs": [
        {
          "output_type": "stream",
          "name": "stdout",
          "text": [
            "Random integer between 1 and 100: 4\n"
          ]
        }
      ]
    },
    {
      "cell_type": "code",
      "source": [
        "import math\n",
        "\n",
        "# Calculate the square root of 49\n",
        "sqrt_value = math.sqrt(49)\n",
        "print(\"Square root of 49:\", sqrt_value)\n",
        "\n",
        "# Convert 90 degrees to radians and calculate the sine\n",
        "radians = math.radians(90)\n",
        "sine_value = math.sin(radians)\n",
        "print(\"Sine of 90 degrees:\", sine_value)\n"
      ],
      "metadata": {
        "colab": {
          "base_uri": "https://localhost:8080/"
        },
        "id": "WtaltwhIrzMY",
        "outputId": "4a02b96f-4d24-45d7-ceb1-88387bda9a56"
      },
      "execution_count": 8,
      "outputs": [
        {
          "output_type": "stream",
          "name": "stdout",
          "text": [
            "Square root of 49: 7.0\n",
            "Sine of 90 degrees: 1.0\n"
          ]
        }
      ]
    },
    {
      "cell_type": "code",
      "source": [],
      "metadata": {
        "id": "SHTyl8qD8H7N"
      },
      "execution_count": null,
      "outputs": []
    },
    {
      "cell_type": "code",
      "source": [],
      "metadata": {
        "id": "PPNqf2OT8H3z"
      },
      "execution_count": null,
      "outputs": []
    },
    {
      "cell_type": "code",
      "source": [],
      "metadata": {
        "id": "N_sfYNZa8H09"
      },
      "execution_count": null,
      "outputs": []
    }
  ]
}