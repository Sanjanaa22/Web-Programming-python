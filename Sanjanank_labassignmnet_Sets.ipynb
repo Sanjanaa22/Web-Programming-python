{
  "nbformat": 4,
  "nbformat_minor": 0,
  "metadata": {
    "colab": {
      "provenance": []
    },
    "kernelspec": {
      "name": "python3",
      "display_name": "Python 3"
    },
    "language_info": {
      "name": "python"
    }
  },
  "cells": [
    {
      "cell_type": "markdown",
      "source": [
        "# **LAB ASSIGNMENT -13**\n"
      ],
      "metadata": {
        "id": "h0GU4iJZpYJX"
      }
    },
    {
      "cell_type": "markdown",
      "source": [
        "#1)Write a python program to get only unique items frm two sets\n",
        "\n",
        "input:\n",
        "set1={10,20,30,40,50}\n",
        "set2={30,40,50,60,70}\n",
        "\n",
        "output\n",
        "{70,40,10,50,20,60,30}"
      ],
      "metadata": {
        "id": "qR8PuLcrpgun"
      }
    },
    {
      "cell_type": "code",
      "execution_count": 1,
      "metadata": {
        "colab": {
          "base_uri": "https://localhost:8080/"
        },
        "id": "Zu--Qpp5pSCB",
        "outputId": "dbe965a3-584b-4f8d-d519-04b9021cf291"
      },
      "outputs": [
        {
          "output_type": "stream",
          "name": "stdout",
          "text": [
            "{70, 40, 10, 50, 20, 60, 30}\n"
          ]
        }
      ],
      "source": [
        "# Define the two sets\n",
        "set1 = {10, 20, 30, 40, 50}\n",
        "set2 = {30, 40, 50, 60, 70}\n",
        "\n",
        "# Get the unique items using union\n",
        "unique_items = set1 | set2  # Union of both sets\n",
        "\n",
        "# Print the result\n",
        "print(unique_items)"
      ]
    },
    {
      "cell_type": "markdown",
      "source": [
        "#2)Write a python program to return a set of elements present in a set A or B , but not both\n",
        "\n",
        "#input:\n",
        "#set1={10,20,30,40,50}\n",
        "#set2={30,40,50,60,70}\n",
        "\n",
        "#output:\n",
        "#{20,70,10,60}"
      ],
      "metadata": {
        "id": "sZLUFmzdrSpS"
      }
    },
    {
      "cell_type": "code",
      "source": [
        "# Define the two sets\n",
        "set1 = {10, 20, 30, 40, 50}\n",
        "set2 = {30, 40, 50, 60, 70}\n",
        "\n",
        "# Get the symmetric difference between set1 and set2\n",
        "result = set1 ^ set2  # Elements present in either set, but not both\n",
        "\n",
        "# Print the result\n",
        "print(result)\n"
      ],
      "metadata": {
        "colab": {
          "base_uri": "https://localhost:8080/"
        },
        "id": "zzJwTKWPsUdj",
        "outputId": "011926ce-7dcb-4974-f2fe-c0a5e26442de"
      },
      "execution_count": 2,
      "outputs": [
        {
          "output_type": "stream",
          "name": "stdout",
          "text": [
            "{20, 70, 10, 60}\n"
          ]
        }
      ]
    },
    {
      "cell_type": "markdown",
      "source": [
        "#3)Write a python program to check if two sets have any elements in common.If yes ,display the common elements\n",
        "\n",
        "#input\n",
        "\n",
        "#Set1={10.20,30,40,50}\n",
        "#Set2={60,70,80,90,10}\n",
        "\n",
        "#OUTPUT\n",
        "#{10}"
      ],
      "metadata": {
        "id": "zk5xu-YXscoF"
      }
    },
    {
      "cell_type": "code",
      "source": [
        "# Define the two sets\n",
        "set1 = {10, 20, 30, 40, 50}\n",
        "set2 = {60, 70, 80, 90, 10}\n",
        "\n",
        "# Find the common elements using intersection\n",
        "common_elements = set1 & set2  # OR use set1.intersection(set2)\n",
        "\n",
        "# Check if there are common elements and print them\n",
        "if common_elements:\n",
        "    print(common_elements)\n",
        "else:\n",
        "    print(\"No common elements\")\n"
      ],
      "metadata": {
        "colab": {
          "base_uri": "https://localhost:8080/"
        },
        "id": "33OyFCrDtRja",
        "outputId": "d4e70e19-ac18-4a61-8af2-6aa20f1aca84"
      },
      "execution_count": 3,
      "outputs": [
        {
          "output_type": "stream",
          "name": "stdout",
          "text": [
            "{10}\n"
          ]
        }
      ]
    },
    {
      "cell_type": "markdown",
      "source": [
        "#4)Write a python program to Remove items from set1 that are not common to both set1 and set2\n",
        "\n",
        "#input:\n",
        "#Set1={10,20,30,40,50}\n",
        "#set2={30,40,50,60,70}\n",
        "\n",
        "#output\n",
        "#{40,50,30}"
      ],
      "metadata": {
        "id": "P5Rvsbq7tY7O"
      }
    },
    {
      "cell_type": "code",
      "source": [
        "# Define the two sets\n",
        "set1 = {10, 20, 30, 40, 50}\n",
        "set2 = {30, 40, 50, 60, 70}\n",
        "\n",
        "# Remove items from set1 that are not common to both set1 and set2\n",
        "set1 &= set2  # This keeps only the common elements in set1\n",
        "\n",
        "# Print the updated set1\n",
        "print(set1)\n"
      ],
      "metadata": {
        "colab": {
          "base_uri": "https://localhost:8080/"
        },
        "id": "1M1UyvZnuGQz",
        "outputId": "20af94ff-6493-4f26-e46c-077d5d917107"
      },
      "execution_count": 4,
      "outputs": [
        {
          "output_type": "stream",
          "name": "stdout",
          "text": [
            "{40, 50, 30}\n"
          ]
        }
      ]
    }
  ]
}